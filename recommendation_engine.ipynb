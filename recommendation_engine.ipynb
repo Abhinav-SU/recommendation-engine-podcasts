{
 "cells": [
  {
   "cell_type": "markdown",
   "metadata": {},
   "source": [
    "# Podcast Recommender System "
   ]
  },
  {
   "cell_type": "markdown",
   "metadata": {},
   "source": [
    "## Import Packages"
   ]
  },
  {
   "cell_type": "code",
   "execution_count": 6,
   "metadata": {},
   "outputs": [],
   "source": [
    "#Standard Packages\n",
    "import pandas as pd\n",
    "import numpy as np\n",
    "import seaborn as sns\n",
    "import matplotlib.pyplot as plt\n",
    "%matplotlib inline\n",
    "\n",
    "import os\n",
    "import re\n",
    "from sklearn.feature_extraction.text import TfidfVectorizer, CountVectorizer\n",
    "from sklearn.metrics.pairwise import cosine_similarity\n",
    "\n",
    "from scipy import sparse\n",
    "from scipy.sparse import hstack\n",
    "\n",
    "from IPython.core.interactiveshell import InteractiveShell\n",
    "InteractiveShell.ast_node_interactivity = \"all\"\n",
    "pd.set_option('display.max_columns', 70)"
   ]
  },
  {
   "cell_type": "markdown",
   "metadata": {},
   "source": [
    "## Podcast Dataset"
   ]
  },
  {
   "cell_type": "markdown",
   "metadata": {},
   "source": [
    "### Data Import and Exploratory Data Analysis"
   ]
  },
  {
   "cell_type": "code",
   "execution_count": 16,
   "metadata": {},
   "outputs": [],
   "source": [
    "podcasts = pd.read_csv(r\"C:\\Users\\abhin\\Downloads\\podcast_recommendation\\podcasts.csv\")"
   ]
  },
  {
   "cell_type": "code",
   "execution_count": 17,
   "metadata": {},
   "outputs": [
    {
     "data": {
      "text/plain": [
       "(121175, 9)"
      ]
     },
     "execution_count": 17,
     "metadata": {},
     "output_type": "execute_result"
    }
   ],
   "source": [
    "podcasts.shape"
   ]
  },
  {
   "cell_type": "code",
   "execution_count": 18,
   "metadata": {},
   "outputs": [
    {
     "data": {
      "text/html": [
       "<div>\n",
       "<style scoped>\n",
       "    .dataframe tbody tr th:only-of-type {\n",
       "        vertical-align: middle;\n",
       "    }\n",
       "\n",
       "    .dataframe tbody tr th {\n",
       "        vertical-align: top;\n",
       "    }\n",
       "\n",
       "    .dataframe thead th {\n",
       "        text-align: right;\n",
       "    }\n",
       "</style>\n",
       "<table border=\"1\" class=\"dataframe\">\n",
       "  <thead>\n",
       "    <tr style=\"text-align: right;\">\n",
       "      <th></th>\n",
       "      <th>uuid</th>\n",
       "      <th>title</th>\n",
       "      <th>image</th>\n",
       "      <th>description</th>\n",
       "      <th>language</th>\n",
       "      <th>categories</th>\n",
       "      <th>website</th>\n",
       "      <th>author</th>\n",
       "      <th>itunes_id</th>\n",
       "    </tr>\n",
       "  </thead>\n",
       "  <tbody>\n",
       "    <tr>\n",
       "      <th>0</th>\n",
       "      <td>8d62d3880db2425b890b986e58aca393</td>\n",
       "      <td>Ecommerce Conversations, by Practical Ecommerce</td>\n",
       "      <td>http://is4.mzstatic.com/image/thumb/Music6/v4/...</td>\n",
       "      <td>Listen in as the Practical Ecommerce editorial...</td>\n",
       "      <td>English</td>\n",
       "      <td>Technology</td>\n",
       "      <td>http://www.practicalecommerce.com</td>\n",
       "      <td>Practical Ecommerce</td>\n",
       "      <td>874457373</td>\n",
       "    </tr>\n",
       "    <tr>\n",
       "      <th>1</th>\n",
       "      <td>cbbefd691915468c90f87ab2f00473f9</td>\n",
       "      <td>Eat Sleep Code Podcast</td>\n",
       "      <td>http://is4.mzstatic.com/image/thumb/Music71/v4...</td>\n",
       "      <td>On the show we’ll be talking to passionate peo...</td>\n",
       "      <td>English</td>\n",
       "      <td>Tech News | Technology</td>\n",
       "      <td>http://developer.telerik.com/</td>\n",
       "      <td>Telerik</td>\n",
       "      <td>1015556393</td>\n",
       "    </tr>\n",
       "    <tr>\n",
       "      <th>2</th>\n",
       "      <td>73626ad1edb74dbb8112cd159bda86cf</td>\n",
       "      <td>SoundtrackAlley</td>\n",
       "      <td>http://is5.mzstatic.com/image/thumb/Music71/v4...</td>\n",
       "      <td>A podcast about soundtracks and movies from my...</td>\n",
       "      <td>English</td>\n",
       "      <td>Podcasting | Technology</td>\n",
       "      <td>https://soundtrackalley.podbean.com</td>\n",
       "      <td>Randy Andrews</td>\n",
       "      <td>1158188937</td>\n",
       "    </tr>\n",
       "    <tr>\n",
       "      <th>3</th>\n",
       "      <td>0f50631ebad24cedb2fee80950f37a1a</td>\n",
       "      <td>The Tech M&amp;A Podcast</td>\n",
       "      <td>http://is1.mzstatic.com/image/thumb/Music71/v4...</td>\n",
       "      <td>The Tech M&amp;A Podcast pulls from the best of th...</td>\n",
       "      <td>English</td>\n",
       "      <td>Business News | Technology | Tech News | Business</td>\n",
       "      <td>http://www.corumgroup.com</td>\n",
       "      <td>Timothy Goddard</td>\n",
       "      <td>538160025</td>\n",
       "    </tr>\n",
       "    <tr>\n",
       "      <th>4</th>\n",
       "      <td>69580e7b419045839ca07af06cf0d653</td>\n",
       "      <td>The Tech Informist - For fans of Apple, Google...</td>\n",
       "      <td>http://is4.mzstatic.com/image/thumb/Music62/v4...</td>\n",
       "      <td>The tech news show with two guys shooting the ...</td>\n",
       "      <td>English</td>\n",
       "      <td>Gadgets | Tech News | Technology</td>\n",
       "      <td>http://techinformist.com</td>\n",
       "      <td>The Tech Informist</td>\n",
       "      <td>916080498</td>\n",
       "    </tr>\n",
       "  </tbody>\n",
       "</table>\n",
       "</div>"
      ],
      "text/plain": [
       "                               uuid  \\\n",
       "0  8d62d3880db2425b890b986e58aca393   \n",
       "1  cbbefd691915468c90f87ab2f00473f9   \n",
       "2  73626ad1edb74dbb8112cd159bda86cf   \n",
       "3  0f50631ebad24cedb2fee80950f37a1a   \n",
       "4  69580e7b419045839ca07af06cf0d653   \n",
       "\n",
       "                                               title  \\\n",
       "0    Ecommerce Conversations, by Practical Ecommerce   \n",
       "1                             Eat Sleep Code Podcast   \n",
       "2                                    SoundtrackAlley   \n",
       "3                               The Tech M&A Podcast   \n",
       "4  The Tech Informist - For fans of Apple, Google...   \n",
       "\n",
       "                                               image  \\\n",
       "0  http://is4.mzstatic.com/image/thumb/Music6/v4/...   \n",
       "1  http://is4.mzstatic.com/image/thumb/Music71/v4...   \n",
       "2  http://is5.mzstatic.com/image/thumb/Music71/v4...   \n",
       "3  http://is1.mzstatic.com/image/thumb/Music71/v4...   \n",
       "4  http://is4.mzstatic.com/image/thumb/Music62/v4...   \n",
       "\n",
       "                                         description language  \\\n",
       "0  Listen in as the Practical Ecommerce editorial...  English   \n",
       "1  On the show we’ll be talking to passionate peo...  English   \n",
       "2  A podcast about soundtracks and movies from my...  English   \n",
       "3  The Tech M&A Podcast pulls from the best of th...  English   \n",
       "4  The tech news show with two guys shooting the ...  English   \n",
       "\n",
       "                                          categories  \\\n",
       "0                                         Technology   \n",
       "1                             Tech News | Technology   \n",
       "2                            Podcasting | Technology   \n",
       "3  Business News | Technology | Tech News | Business   \n",
       "4                   Gadgets | Tech News | Technology   \n",
       "\n",
       "                               website               author   itunes_id  \n",
       "0    http://www.practicalecommerce.com  Practical Ecommerce   874457373  \n",
       "1        http://developer.telerik.com/              Telerik  1015556393  \n",
       "2  https://soundtrackalley.podbean.com        Randy Andrews  1158188937  \n",
       "3            http://www.corumgroup.com      Timothy Goddard   538160025  \n",
       "4             http://techinformist.com   The Tech Informist   916080498  "
      ]
     },
     "execution_count": 18,
     "metadata": {},
     "output_type": "execute_result"
    }
   ],
   "source": [
    "podcasts.head(5)"
   ]
  },
  {
   "cell_type": "markdown",
   "metadata": {},
   "source": [
    "#### Languages in Podcast Dataset"
   ]
  },
  {
   "cell_type": "code",
   "execution_count": 21,
   "metadata": {},
   "outputs": [
    {
     "data": {
      "text/plain": [
       "<Figure size 1500x800 with 0 Axes>"
      ]
     },
     "execution_count": 21,
     "metadata": {},
     "output_type": "execute_result"
    },
    {
     "data": {
      "text/plain": [
       "<Axes: xlabel='language'>"
      ]
     },
     "execution_count": 21,
     "metadata": {},
     "output_type": "execute_result"
    },
    {
     "data": {
      "text/plain": [
       "Text(0.5, 1.0, 'Podcasts by Language')"
      ]
     },
     "execution_count": 21,
     "metadata": {},
     "output_type": "execute_result"
    },
    {
     "data": {
      "text/plain": [
       "Text(0.5, 0, 'Languages')"
      ]
     },
     "execution_count": 21,
     "metadata": {},
     "output_type": "execute_result"
    },
    {
     "data": {
      "text/plain": [
       "Text(0, 0.5, 'Number of Podcasts')"
      ]
     },
     "execution_count": 21,
     "metadata": {},
     "output_type": "execute_result"
    },
    {
     "data": {
      "image/png": "[encoded data removed]",
      "text/plain": [
       "<Figure size 1500x800 with 1 Axes>"
      ]
     },
     "metadata": {},
     "output_type": "display_data"
    }
   ],
   "source": [
    "plt.figure(figsize=(15,8))\n",
    "podcasts['language'].value_counts().plot.bar()\n",
    "plt.title('Podcasts by Language')\n",
    "plt.xlabel('Languages')\n",
    "plt.ylabel('Number of Podcasts')\n",
    "plt.show()"
   ]
  },
  {
   "cell_type": "code",
   "execution_count": 85,
   "metadata": {},
   "outputs": [
    {
     "name": "stdout",
     "output_type": "stream",
     "text": [
      "Defaulting to user installation because normal site-packages is not writeableNote: you may need to restart the kernel to use updated packages.\n",
      "\n",
      "Requirement already satisfied: nbconvert in c:\\programdata\\anaconda3\\lib\\site-packages (7.16.4)\n",
      "Requirement already satisfied: beautifulsoup4 in c:\\programdata\\anaconda3\\lib\\site-packages (from nbconvert) (4.12.3)\n",
      "Requirement already satisfied: bleach!=5.0.0 in c:\\programdata\\anaconda3\\lib\\site-packages (from nbconvert) (4.1.0)\n",
      "Requirement already satisfied: defusedxml in c:\\programdata\\anaconda3\\lib\\site-packages (from nbconvert) (0.7.1)\n",
      "Requirement already satisfied: jinja2>=3.0 in c:\\programdata\\anaconda3\\lib\\site-packages (from nbconvert) (3.1.4)\n",
      "Requirement already satisfied: jupyter-core>=4.7 in c:\\programdata\\anaconda3\\lib\\site-packages (from nbconvert) (5.7.2)\n",
      "Requirement already satisfied: jupyterlab-pygments in c:\\programdata\\anaconda3\\lib\\site-packages (from nbconvert) (0.1.2)\n",
      "Requirement already satisfied: markupsafe>=2.0 in c:\\programdata\\anaconda3\\lib\\site-packages (from nbconvert) (2.1.3)\n",
      "Requirement already satisfied: mistune<4,>=2.0.3 in c:\\programdata\\anaconda3\\lib\\site-packages (from nbconvert) (2.0.4)\n",
      "Requirement already satisfied: nbclient>=0.5.0 in c:\\programdata\\anaconda3\\lib\\site-packages (from nbconvert) (0.8.0)\n",
      "Requirement already satisfied: nbformat>=5.7 in c:\\programdata\\anaconda3\\lib\\site-packages (from nbconvert) (5.10.4)\n",
      "Requirement already satisfied: packaging in c:\\programdata\\anaconda3\\lib\\site-packages (from nbconvert) (24.1)\n",
      "Requirement already satisfied: pandocfilters>=1.4.1 in c:\\programdata\\anaconda3\\lib\\site-packages (from nbconvert) (1.5.0)\n",
      "Requirement already satisfied: pygments>=2.4.1 in c:\\programdata\\anaconda3\\lib\\site-packages (from nbconvert) (2.15.1)\n",
      "Requirement already satisfied: tinycss2 in c:\\programdata\\anaconda3\\lib\\site-packages (from nbconvert) (1.2.1)\n",
      "Requirement already satisfied: traitlets>=5.1 in c:\\programdata\\anaconda3\\lib\\site-packages (from nbconvert) (5.14.3)\n",
      "Requirement already satisfied: six>=1.9.0 in c:\\programdata\\anaconda3\\lib\\site-packages (from bleach!=5.0.0->nbconvert) (1.16.0)\n",
      "Requirement already satisfied: webencodings in c:\\programdata\\anaconda3\\lib\\site-packages (from bleach!=5.0.0->nbconvert) (0.5.1)\n",
      "Requirement already satisfied: platformdirs>=2.5 in c:\\programdata\\anaconda3\\lib\\site-packages (from jupyter-core>=4.7->nbconvert) (3.10.0)\n",
      "Requirement already satisfied: pywin32>=300 in c:\\programdata\\anaconda3\\lib\\site-packages (from jupyter-core>=4.7->nbconvert) (305.1)\n",
      "Requirement already satisfied: jupyter-client>=6.1.12 in c:\\programdata\\anaconda3\\lib\\site-packages (from nbclient>=0.5.0->nbconvert) (8.6.0)\n",
      "Requirement already satisfied: fastjsonschema>=2.15 in c:\\programdata\\anaconda3\\lib\\site-packages (from nbformat>=5.7->nbconvert) (2.16.2)\n",
      "Requirement already satisfied: jsonschema>=2.6 in c:\\programdata\\anaconda3\\lib\\site-packages (from nbformat>=5.7->nbconvert) (4.23.0)\n",
      "Requirement already satisfied: soupsieve>1.2 in c:\\programdata\\anaconda3\\lib\\site-packages (from beautifulsoup4->nbconvert) (2.5)\n",
      "Requirement already satisfied: attrs>=22.2.0 in c:\\programdata\\anaconda3\\lib\\site-packages (from jsonschema>=2.6->nbformat>=5.7->nbconvert) (23.1.0)\n",
      "Requirement already satisfied: jsonschema-specifications>=2023.03.6 in c:\\programdata\\anaconda3\\lib\\site-packages (from jsonschema>=2.6->nbformat>=5.7->nbconvert) (2023.7.1)\n",
      "Requirement already satisfied: referencing>=0.28.4 in c:\\programdata\\anaconda3\\lib\\site-packages (from jsonschema>=2.6->nbformat>=5.7->nbconvert) (0.30.2)\n",
      "Requirement already satisfied: rpds-py>=0.7.1 in c:\\programdata\\anaconda3\\lib\\site-packages (from jsonschema>=2.6->nbformat>=5.7->nbconvert) (0.10.6)\n",
      "Requirement already satisfied: python-dateutil>=2.8.2 in c:\\programdata\\anaconda3\\lib\\site-packages (from jupyter-client>=6.1.12->nbclient>=0.5.0->nbconvert) (2.9.0.post0)\n",
      "Requirement already satisfied: pyzmq>=23.0 in c:\\programdata\\anaconda3\\lib\\site-packages (from jupyter-client>=6.1.12->nbclient>=0.5.0->nbconvert) (25.1.2)\n",
      "Requirement already satisfied: tornado>=6.2 in c:\\programdata\\anaconda3\\lib\\site-packages (from jupyter-client>=6.1.12->nbclient>=0.5.0->nbconvert) (6.4.1)\n"
     ]
    }
   ],
   "source": [
    "pip install nbconvert"
   ]
  },
  {
   "cell_type": "code",
   "execution_count": 22,
   "metadata": {},
   "outputs": [
    {
     "data": {
      "text/plain": [
       "<Figure size 1500x800 with 0 Axes>"
      ]
     },
     "execution_count": 22,
     "metadata": {},
     "output_type": "execute_result"
    },
    {
     "data": {
      "text/plain": [
       "<Axes: xlabel='categories'>"
      ]
     },
     "execution_count": 22,
     "metadata": {},
     "output_type": "execute_result"
    },
    {
     "data": {
      "text/plain": [
       "Text(0.5, 1.0, 'Top 25 Most Frequent Podcasts Categories')"
      ]
     },
     "execution_count": 22,
     "metadata": {},
     "output_type": "execute_result"
    },
    {
     "data": {
      "text/plain": [
       "Text(0.5, 0, 'Categories')"
      ]
     },
     "execution_count": 22,
     "metadata": {},
     "output_type": "execute_result"
    },
    {
     "data": {
      "text/plain": [
       "Text(0, 0.5, 'Number of Podcasts')"
      ]
     },
     "execution_count": 22,
     "metadata": {},
     "output_type": "execute_result"
    },
    {
     "data": {
      "image/png": "[encoded data removed]",
      "text/plain": [
       "<Figure size 1500x800 with 1 Axes>"
      ]
     },
     "metadata": {},
     "output_type": "display_data"
    }
   ],
   "source": [
    "plt.figure(figsize=(15,8))\n",
    "podcasts['categories'].value_counts()[:25].plot.bar()\n",
    "plt.title('Top 25 Most Frequent Podcasts Categories')\n",
    "plt.xlabel('Categories')\n",
    "plt.ylabel('Number of Podcasts');\n",
    "plt.show()"
   ]
  },
  {
   "cell_type": "markdown",
   "metadata": {},
   "source": [
    "#### Filter english podcast"
   ]
  },
  {
   "cell_type": "code",
   "execution_count": 23,
   "metadata": {},
   "outputs": [],
   "source": [
    "podcasts = podcasts[podcasts.language == 'English']"
   ]
  },
  {
   "cell_type": "markdown",
   "metadata": {},
   "source": [
    "#### Removing podcast with missing descriptions and duplicate ids"
   ]
  },
  {
   "cell_type": "code",
   "execution_count": 24,
   "metadata": {},
   "outputs": [],
   "source": [
    "podcasts = podcasts.dropna(subset=['description'])\n",
    "podcasts = podcasts.drop_duplicates('itunes_id')"
   ]
  },
  {
   "cell_type": "code",
   "execution_count": 25,
   "metadata": {},
   "outputs": [
    {
     "data": {
      "text/plain": [
       "0"
      ]
     },
     "execution_count": 25,
     "metadata": {},
     "output_type": "execute_result"
    }
   ],
   "source": [
    "podcasts.description.isnull().sum()"
   ]
  },
  {
   "cell_type": "markdown",
   "metadata": {},
   "source": [
    "#### Removing podcast descriptions lesser than 20 words "
   ]
  },
  {
   "cell_type": "code",
   "execution_count": 62,
   "metadata": {},
   "outputs": [],
   "source": [
    "podcasts['description_length'] = [len(x.description.split()) for _, x in podcasts.iterrows()]"
   ]
  },
  {
   "cell_type": "code",
   "execution_count": 63,
   "metadata": {},
   "outputs": [
    {
     "data": {
      "text/plain": [
       "count    59322.000000\n",
       "mean        58.265905\n",
       "std        134.333135\n",
       "min         20.000000\n",
       "25%         30.000000\n",
       "50%         44.000000\n",
       "75%         68.000000\n",
       "max      30157.000000\n",
       "Name: description_length, dtype: float64"
      ]
     },
     "execution_count": 63,
     "metadata": {},
     "output_type": "execute_result"
    }
   ],
   "source": [
    "podcasts['description_length'].describe()"
   ]
  },
  {
   "cell_type": "code",
   "execution_count": 64,
   "metadata": {},
   "outputs": [],
   "source": [
    "podcasts = podcasts[podcasts.description_length >= 20]"
   ]
  },
  {
   "cell_type": "markdown",
   "metadata": {},
   "source": [
    "## Building Recommendation Engine "
   ]
  },
  {
   "cell_type": "markdown",
   "metadata": {},
   "source": [
    "### Constructing categories matrix "
   ]
  },
  {
   "cell_type": "markdown",
   "metadata": {},
   "source": [
    "#### Tokenizing and dummifying categories to form a categories matrix "
   ]
  },
  {
   "cell_type": "code",
   "execution_count": 65,
   "metadata": {},
   "outputs": [
    {
     "data": {
      "text/plain": [
       "(59322, 11)"
      ]
     },
     "execution_count": 65,
     "metadata": {},
     "output_type": "execute_result"
    }
   ],
   "source": [
    "podcasts.shape"
   ]
  },
  {
   "cell_type": "code",
   "execution_count": 66,
   "metadata": {},
   "outputs": [
    {
     "name": "stderr",
     "output_type": "stream",
     "text": [
      "C:\\Users\\abhin\\AppData\\Local\\Temp\\ipykernel_39892\\1503437268.py:1: FutureWarning: A value is trying to be set on a copy of a DataFrame or Series through chained assignment using an inplace method.\n",
      "The behavior will change in pandas 3.0. This inplace method will never work because the intermediate object on which we are setting values always behaves as a copy.\n",
      "\n",
      "For example, when doing 'df[col].method(value, inplace=True)', try using 'df.method({col: value}, inplace=True)' or df[col] = df[col].method(value) instead, to perform the operation inplace on the original object.\n",
      "\n",
      "\n",
      "  podcasts.categories.fillna('None', inplace=True)\n"
     ]
    }
   ],
   "source": [
    "podcasts.categories.fillna('None', inplace=True)"
   ]
  },
  {
   "cell_type": "code",
   "execution_count": 67,
   "metadata": {},
   "outputs": [],
   "source": [
    "unique_podcast_categories = podcasts.categories.unique()"
   ]
  },
  {
   "cell_type": "code",
   "execution_count": 68,
   "metadata": {},
   "outputs": [],
   "source": [
    "final_podcast_categories = set()\n",
    "for category in unique_podcast_categories: \n",
    "    strip_cats = [cat_split.strip() for cat_split in category.split('|')]\n",
    "    for strip_cat in strip_cats:\n",
    "        final_podcast_categories.add(strip_cat)\n",
    "new_features = list(final_podcast_categories)"
   ]
  },
  {
   "cell_type": "code",
   "execution_count": 69,
   "metadata": {},
   "outputs": [],
   "source": [
    "# converting list into columns and then appending it to podcast dataframe \n",
    "podcast_category_df = pd.DataFrame()\n",
    "# a loop that checks if categories column has the word in each of the new columns 1 for yes 0 for no\n",
    "for column_name in new_features:\n",
    "    boolean_series = podcasts.categories.str.contains(column_name).astype(int)\n",
    "    podcast_category_df[column_name] = boolean_series"
   ]
  },
  {
   "cell_type": "code",
   "execution_count": 70,
   "metadata": {},
   "outputs": [
    {
     "data": {
      "text/plain": [
       "(59322, 67)"
      ]
     },
     "execution_count": 70,
     "metadata": {},
     "output_type": "execute_result"
    }
   ],
   "source": [
    "podcast_category_df.shape"
   ]
  },
  {
   "cell_type": "code",
   "execution_count": 71,
   "metadata": {},
   "outputs": [
    {
     "data": {
      "text/html": [
       "<div>\n",
       "<style scoped>\n",
       "    .dataframe tbody tr th:only-of-type {\n",
       "        vertical-align: middle;\n",
       "    }\n",
       "\n",
       "    .dataframe tbody tr th {\n",
       "        vertical-align: top;\n",
       "    }\n",
       "\n",
       "    .dataframe thead th {\n",
       "        text-align: right;\n",
       "    }\n",
       "</style>\n",
       "<table border=\"1\" class=\"dataframe\">\n",
       "  <thead>\n",
       "    <tr style=\"text-align: right;\">\n",
       "      <th></th>\n",
       "      <th>Gadgets</th>\n",
       "      <th>College &amp; High School</th>\n",
       "      <th>Games &amp; Hobbies</th>\n",
       "      <th>TV &amp; Film</th>\n",
       "      <th>Natural Sciences</th>\n",
       "      <th>Design</th>\n",
       "      <th>Amateur</th>\n",
       "      <th>Christianity</th>\n",
       "      <th>Judaism</th>\n",
       "      <th>Kids &amp; Family</th>\n",
       "      <th>Shopping</th>\n",
       "      <th>Spirituality</th>\n",
       "      <th>Automotive</th>\n",
       "      <th>Health</th>\n",
       "      <th>Islam</th>\n",
       "      <th>Society &amp; Culture</th>\n",
       "      <th>Places &amp; Travel</th>\n",
       "      <th>Higher Education</th>\n",
       "      <th>Visual Arts</th>\n",
       "      <th>Philosophy</th>\n",
       "      <th>News &amp; Politics</th>\n",
       "      <th>Non-Profit</th>\n",
       "      <th>Management &amp; Marketing</th>\n",
       "      <th>Sexuality</th>\n",
       "      <th>Education</th>\n",
       "      <th>Comedy</th>\n",
       "      <th>Business</th>\n",
       "      <th>Regional</th>\n",
       "      <th>Self-Help</th>\n",
       "      <th>Other</th>\n",
       "      <th>K-12</th>\n",
       "      <th>Software How-To</th>\n",
       "      <th>Hobbies</th>\n",
       "      <th>Sports &amp; Recreation</th>\n",
       "      <th>Careers</th>\n",
       "      <th>Performing Arts</th>\n",
       "      <th>Science &amp; Medicine</th>\n",
       "      <th>Podcasting</th>\n",
       "      <th>Food</th>\n",
       "      <th>Fashion &amp; Beauty</th>\n",
       "      <th>Business News</th>\n",
       "      <th>Language Courses</th>\n",
       "      <th>Religion &amp; Spirituality</th>\n",
       "      <th>National</th>\n",
       "      <th>Tech News</th>\n",
       "      <th>Literature</th>\n",
       "      <th>Buddhism</th>\n",
       "      <th>Social Sciences</th>\n",
       "      <th>Video Games</th>\n",
       "      <th>History</th>\n",
       "      <th>Other Games</th>\n",
       "      <th>Educational Technology</th>\n",
       "      <th>Investing</th>\n",
       "      <th>Alternative Health</th>\n",
       "      <th>Local</th>\n",
       "      <th>Professional</th>\n",
       "      <th>Training</th>\n",
       "      <th>Medicine</th>\n",
       "      <th>Aviation</th>\n",
       "      <th>Government &amp; Organizations</th>\n",
       "      <th>Outdoor</th>\n",
       "      <th>Fitness &amp; Nutrition</th>\n",
       "      <th>Personal Journals</th>\n",
       "      <th>Music</th>\n",
       "      <th>Hinduism</th>\n",
       "      <th>Technology</th>\n",
       "      <th>Arts</th>\n",
       "    </tr>\n",
       "  </thead>\n",
       "  <tbody>\n",
       "    <tr>\n",
       "      <th>0</th>\n",
       "      <td>0</td>\n",
       "      <td>0</td>\n",
       "      <td>0</td>\n",
       "      <td>0</td>\n",
       "      <td>0</td>\n",
       "      <td>0</td>\n",
       "      <td>0</td>\n",
       "      <td>0</td>\n",
       "      <td>0</td>\n",
       "      <td>0</td>\n",
       "      <td>0</td>\n",
       "      <td>0</td>\n",
       "      <td>0</td>\n",
       "      <td>0</td>\n",
       "      <td>0</td>\n",
       "      <td>0</td>\n",
       "      <td>0</td>\n",
       "      <td>0</td>\n",
       "      <td>0</td>\n",
       "      <td>0</td>\n",
       "      <td>0</td>\n",
       "      <td>0</td>\n",
       "      <td>0</td>\n",
       "      <td>0</td>\n",
       "      <td>0</td>\n",
       "      <td>0</td>\n",
       "      <td>0</td>\n",
       "      <td>0</td>\n",
       "      <td>0</td>\n",
       "      <td>0</td>\n",
       "      <td>0</td>\n",
       "      <td>0</td>\n",
       "      <td>0</td>\n",
       "      <td>0</td>\n",
       "      <td>0</td>\n",
       "      <td>0</td>\n",
       "      <td>0</td>\n",
       "      <td>0</td>\n",
       "      <td>0</td>\n",
       "      <td>0</td>\n",
       "      <td>0</td>\n",
       "      <td>0</td>\n",
       "      <td>0</td>\n",
       "      <td>0</td>\n",
       "      <td>1</td>\n",
       "      <td>0</td>\n",
       "      <td>0</td>\n",
       "      <td>0</td>\n",
       "      <td>0</td>\n",
       "      <td>0</td>\n",
       "      <td>0</td>\n",
       "      <td>0</td>\n",
       "      <td>0</td>\n",
       "      <td>0</td>\n",
       "      <td>0</td>\n",
       "      <td>0</td>\n",
       "      <td>0</td>\n",
       "      <td>0</td>\n",
       "      <td>0</td>\n",
       "      <td>0</td>\n",
       "      <td>0</td>\n",
       "      <td>0</td>\n",
       "      <td>0</td>\n",
       "      <td>0</td>\n",
       "      <td>0</td>\n",
       "      <td>1</td>\n",
       "      <td>0</td>\n",
       "    </tr>\n",
       "    <tr>\n",
       "      <th>1</th>\n",
       "      <td>0</td>\n",
       "      <td>0</td>\n",
       "      <td>0</td>\n",
       "      <td>0</td>\n",
       "      <td>0</td>\n",
       "      <td>0</td>\n",
       "      <td>0</td>\n",
       "      <td>0</td>\n",
       "      <td>0</td>\n",
       "      <td>0</td>\n",
       "      <td>0</td>\n",
       "      <td>0</td>\n",
       "      <td>0</td>\n",
       "      <td>0</td>\n",
       "      <td>0</td>\n",
       "      <td>0</td>\n",
       "      <td>0</td>\n",
       "      <td>0</td>\n",
       "      <td>0</td>\n",
       "      <td>0</td>\n",
       "      <td>0</td>\n",
       "      <td>0</td>\n",
       "      <td>0</td>\n",
       "      <td>0</td>\n",
       "      <td>0</td>\n",
       "      <td>0</td>\n",
       "      <td>1</td>\n",
       "      <td>0</td>\n",
       "      <td>0</td>\n",
       "      <td>0</td>\n",
       "      <td>0</td>\n",
       "      <td>0</td>\n",
       "      <td>0</td>\n",
       "      <td>0</td>\n",
       "      <td>0</td>\n",
       "      <td>0</td>\n",
       "      <td>0</td>\n",
       "      <td>0</td>\n",
       "      <td>0</td>\n",
       "      <td>0</td>\n",
       "      <td>1</td>\n",
       "      <td>0</td>\n",
       "      <td>0</td>\n",
       "      <td>0</td>\n",
       "      <td>1</td>\n",
       "      <td>0</td>\n",
       "      <td>0</td>\n",
       "      <td>0</td>\n",
       "      <td>0</td>\n",
       "      <td>0</td>\n",
       "      <td>0</td>\n",
       "      <td>0</td>\n",
       "      <td>0</td>\n",
       "      <td>0</td>\n",
       "      <td>0</td>\n",
       "      <td>0</td>\n",
       "      <td>0</td>\n",
       "      <td>0</td>\n",
       "      <td>0</td>\n",
       "      <td>0</td>\n",
       "      <td>0</td>\n",
       "      <td>0</td>\n",
       "      <td>0</td>\n",
       "      <td>0</td>\n",
       "      <td>0</td>\n",
       "      <td>1</td>\n",
       "      <td>0</td>\n",
       "    </tr>\n",
       "    <tr>\n",
       "      <th>2</th>\n",
       "      <td>0</td>\n",
       "      <td>0</td>\n",
       "      <td>0</td>\n",
       "      <td>0</td>\n",
       "      <td>0</td>\n",
       "      <td>0</td>\n",
       "      <td>0</td>\n",
       "      <td>0</td>\n",
       "      <td>0</td>\n",
       "      <td>0</td>\n",
       "      <td>0</td>\n",
       "      <td>0</td>\n",
       "      <td>0</td>\n",
       "      <td>0</td>\n",
       "      <td>0</td>\n",
       "      <td>0</td>\n",
       "      <td>0</td>\n",
       "      <td>0</td>\n",
       "      <td>0</td>\n",
       "      <td>0</td>\n",
       "      <td>0</td>\n",
       "      <td>0</td>\n",
       "      <td>1</td>\n",
       "      <td>0</td>\n",
       "      <td>0</td>\n",
       "      <td>0</td>\n",
       "      <td>1</td>\n",
       "      <td>0</td>\n",
       "      <td>0</td>\n",
       "      <td>0</td>\n",
       "      <td>0</td>\n",
       "      <td>0</td>\n",
       "      <td>0</td>\n",
       "      <td>0</td>\n",
       "      <td>0</td>\n",
       "      <td>0</td>\n",
       "      <td>0</td>\n",
       "      <td>0</td>\n",
       "      <td>0</td>\n",
       "      <td>0</td>\n",
       "      <td>0</td>\n",
       "      <td>0</td>\n",
       "      <td>0</td>\n",
       "      <td>0</td>\n",
       "      <td>1</td>\n",
       "      <td>0</td>\n",
       "      <td>0</td>\n",
       "      <td>0</td>\n",
       "      <td>0</td>\n",
       "      <td>0</td>\n",
       "      <td>0</td>\n",
       "      <td>0</td>\n",
       "      <td>0</td>\n",
       "      <td>0</td>\n",
       "      <td>0</td>\n",
       "      <td>0</td>\n",
       "      <td>0</td>\n",
       "      <td>0</td>\n",
       "      <td>0</td>\n",
       "      <td>0</td>\n",
       "      <td>0</td>\n",
       "      <td>0</td>\n",
       "      <td>0</td>\n",
       "      <td>0</td>\n",
       "      <td>0</td>\n",
       "      <td>1</td>\n",
       "      <td>0</td>\n",
       "    </tr>\n",
       "    <tr>\n",
       "      <th>3</th>\n",
       "      <td>1</td>\n",
       "      <td>0</td>\n",
       "      <td>0</td>\n",
       "      <td>0</td>\n",
       "      <td>0</td>\n",
       "      <td>0</td>\n",
       "      <td>0</td>\n",
       "      <td>0</td>\n",
       "      <td>0</td>\n",
       "      <td>0</td>\n",
       "      <td>0</td>\n",
       "      <td>0</td>\n",
       "      <td>0</td>\n",
       "      <td>0</td>\n",
       "      <td>0</td>\n",
       "      <td>0</td>\n",
       "      <td>0</td>\n",
       "      <td>0</td>\n",
       "      <td>0</td>\n",
       "      <td>0</td>\n",
       "      <td>1</td>\n",
       "      <td>0</td>\n",
       "      <td>0</td>\n",
       "      <td>0</td>\n",
       "      <td>0</td>\n",
       "      <td>0</td>\n",
       "      <td>0</td>\n",
       "      <td>0</td>\n",
       "      <td>0</td>\n",
       "      <td>0</td>\n",
       "      <td>0</td>\n",
       "      <td>1</td>\n",
       "      <td>0</td>\n",
       "      <td>0</td>\n",
       "      <td>0</td>\n",
       "      <td>0</td>\n",
       "      <td>0</td>\n",
       "      <td>0</td>\n",
       "      <td>0</td>\n",
       "      <td>0</td>\n",
       "      <td>0</td>\n",
       "      <td>0</td>\n",
       "      <td>0</td>\n",
       "      <td>0</td>\n",
       "      <td>1</td>\n",
       "      <td>0</td>\n",
       "      <td>0</td>\n",
       "      <td>0</td>\n",
       "      <td>0</td>\n",
       "      <td>0</td>\n",
       "      <td>0</td>\n",
       "      <td>0</td>\n",
       "      <td>0</td>\n",
       "      <td>0</td>\n",
       "      <td>0</td>\n",
       "      <td>0</td>\n",
       "      <td>0</td>\n",
       "      <td>0</td>\n",
       "      <td>0</td>\n",
       "      <td>0</td>\n",
       "      <td>0</td>\n",
       "      <td>0</td>\n",
       "      <td>0</td>\n",
       "      <td>0</td>\n",
       "      <td>0</td>\n",
       "      <td>1</td>\n",
       "      <td>0</td>\n",
       "    </tr>\n",
       "    <tr>\n",
       "      <th>4</th>\n",
       "      <td>0</td>\n",
       "      <td>0</td>\n",
       "      <td>0</td>\n",
       "      <td>0</td>\n",
       "      <td>0</td>\n",
       "      <td>0</td>\n",
       "      <td>0</td>\n",
       "      <td>0</td>\n",
       "      <td>0</td>\n",
       "      <td>0</td>\n",
       "      <td>0</td>\n",
       "      <td>0</td>\n",
       "      <td>0</td>\n",
       "      <td>0</td>\n",
       "      <td>0</td>\n",
       "      <td>0</td>\n",
       "      <td>0</td>\n",
       "      <td>0</td>\n",
       "      <td>0</td>\n",
       "      <td>0</td>\n",
       "      <td>0</td>\n",
       "      <td>0</td>\n",
       "      <td>1</td>\n",
       "      <td>0</td>\n",
       "      <td>0</td>\n",
       "      <td>0</td>\n",
       "      <td>1</td>\n",
       "      <td>0</td>\n",
       "      <td>0</td>\n",
       "      <td>0</td>\n",
       "      <td>0</td>\n",
       "      <td>0</td>\n",
       "      <td>0</td>\n",
       "      <td>0</td>\n",
       "      <td>0</td>\n",
       "      <td>0</td>\n",
       "      <td>0</td>\n",
       "      <td>1</td>\n",
       "      <td>0</td>\n",
       "      <td>0</td>\n",
       "      <td>0</td>\n",
       "      <td>0</td>\n",
       "      <td>0</td>\n",
       "      <td>0</td>\n",
       "      <td>1</td>\n",
       "      <td>0</td>\n",
       "      <td>0</td>\n",
       "      <td>0</td>\n",
       "      <td>0</td>\n",
       "      <td>0</td>\n",
       "      <td>0</td>\n",
       "      <td>0</td>\n",
       "      <td>0</td>\n",
       "      <td>0</td>\n",
       "      <td>0</td>\n",
       "      <td>0</td>\n",
       "      <td>0</td>\n",
       "      <td>0</td>\n",
       "      <td>0</td>\n",
       "      <td>0</td>\n",
       "      <td>0</td>\n",
       "      <td>0</td>\n",
       "      <td>0</td>\n",
       "      <td>0</td>\n",
       "      <td>0</td>\n",
       "      <td>1</td>\n",
       "      <td>0</td>\n",
       "    </tr>\n",
       "  </tbody>\n",
       "</table>\n",
       "</div>"
      ],
      "text/plain": [
       "   Gadgets  College & High School  Games & Hobbies  TV & Film  \\\n",
       "0        0                      0                0          0   \n",
       "1        0                      0                0          0   \n",
       "2        0                      0                0          0   \n",
       "3        1                      0                0          0   \n",
       "4        0                      0                0          0   \n",
       "\n",
       "   Natural Sciences  Design  Amateur  Christianity  Judaism  Kids & Family  \\\n",
       "0                 0       0        0             0        0              0   \n",
       "1                 0       0        0             0        0              0   \n",
       "2                 0       0        0             0        0              0   \n",
       "3                 0       0        0             0        0              0   \n",
       "4                 0       0        0             0        0              0   \n",
       "\n",
       "   Shopping  Spirituality  Automotive  Health  Islam  Society & Culture  \\\n",
       "0         0             0           0       0      0                  0   \n",
       "1         0             0           0       0      0                  0   \n",
       "2         0             0           0       0      0                  0   \n",
       "3         0             0           0       0      0                  0   \n",
       "4         0             0           0       0      0                  0   \n",
       "\n",
       "   Places & Travel  Higher Education  Visual Arts  Philosophy  \\\n",
       "0                0                 0            0           0   \n",
       "1                0                 0            0           0   \n",
       "2                0                 0            0           0   \n",
       "3                0                 0            0           0   \n",
       "4                0                 0            0           0   \n",
       "\n",
       "   News & Politics  Non-Profit  Management & Marketing  Sexuality  Education  \\\n",
       "0                0           0                       0          0          0   \n",
       "1                0           0                       0          0          0   \n",
       "2                0           0                       1          0          0   \n",
       "3                1           0                       0          0          0   \n",
       "4                0           0                       1          0          0   \n",
       "\n",
       "   Comedy  Business  Regional  Self-Help  Other  K-12  Software How-To  \\\n",
       "0       0         0         0          0      0     0                0   \n",
       "1       0         1         0          0      0     0                0   \n",
       "2       0         1         0          0      0     0                0   \n",
       "3       0         0         0          0      0     0                1   \n",
       "4       0         1         0          0      0     0                0   \n",
       "\n",
       "   Hobbies  Sports & Recreation  Careers  Performing Arts  Science & Medicine  \\\n",
       "0        0                    0        0                0                   0   \n",
       "1        0                    0        0                0                   0   \n",
       "2        0                    0        0                0                   0   \n",
       "3        0                    0        0                0                   0   \n",
       "4        0                    0        0                0                   0   \n",
       "\n",
       "   Podcasting  Food  Fashion & Beauty  Business News  Language Courses  \\\n",
       "0           0     0                 0              0                 0   \n",
       "1           0     0                 0              1                 0   \n",
       "2           0     0                 0              0                 0   \n",
       "3           0     0                 0              0                 0   \n",
       "4           1     0                 0              0                 0   \n",
       "\n",
       "   Religion & Spirituality  National  Tech News  Literature  Buddhism  \\\n",
       "0                        0         0          1           0         0   \n",
       "1                        0         0          1           0         0   \n",
       "2                        0         0          1           0         0   \n",
       "3                        0         0          1           0         0   \n",
       "4                        0         0          1           0         0   \n",
       "\n",
       "   Social Sciences  Video Games  History  Other Games  Educational Technology  \\\n",
       "0                0            0        0            0                       0   \n",
       "1                0            0        0            0                       0   \n",
       "2                0            0        0            0                       0   \n",
       "3                0            0        0            0                       0   \n",
       "4                0            0        0            0                       0   \n",
       "\n",
       "   Investing  Alternative Health  Local  Professional  Training  Medicine  \\\n",
       "0          0                   0      0             0         0         0   \n",
       "1          0                   0      0             0         0         0   \n",
       "2          0                   0      0             0         0         0   \n",
       "3          0                   0      0             0         0         0   \n",
       "4          0                   0      0             0         0         0   \n",
       "\n",
       "   Aviation  Government & Organizations  Outdoor  Fitness & Nutrition  \\\n",
       "0         0                           0        0                    0   \n",
       "1         0                           0        0                    0   \n",
       "2         0                           0        0                    0   \n",
       "3         0                           0        0                    0   \n",
       "4         0                           0        0                    0   \n",
       "\n",
       "   Personal Journals  Music  Hinduism  Technology  Arts  \n",
       "0                  0      0         0           1     0  \n",
       "1                  0      0         0           1     0  \n",
       "2                  0      0         0           1     0  \n",
       "3                  0      0         0           1     0  \n",
       "4                  0      0         0           1     0  "
      ]
     },
     "execution_count": 71,
     "metadata": {},
     "output_type": "execute_result"
    }
   ],
   "source": [
    "podcast_category_df.head()"
   ]
  },
  {
   "cell_type": "code",
   "execution_count": 72,
   "metadata": {},
   "outputs": [],
   "source": [
    "podcast_category_df = podcast_category_df / 125"
   ]
  },
  {
   "cell_type": "markdown",
   "metadata": {},
   "source": [
    "### Generate Recommendations"
   ]
  },
  {
   "cell_type": "code",
   "execution_count": 73,
   "metadata": {},
   "outputs": [],
   "source": [
    "podcasts['description'] = podcasts['description'].astype(str)"
   ]
  },
  {
   "cell_type": "code",
   "execution_count": 74,
   "metadata": {},
   "outputs": [
    {
     "data": {
      "text/plain": [
       "(59322, 11)"
      ]
     },
     "execution_count": 74,
     "metadata": {},
     "output_type": "execute_result"
    }
   ],
   "source": [
    "podcasts.shape"
   ]
  },
  {
   "cell_type": "code",
   "execution_count": 75,
   "metadata": {},
   "outputs": [],
   "source": [
    "podcasts = podcasts.reset_index()"
   ]
  },
  {
   "cell_type": "code",
   "execution_count": 76,
   "metadata": {},
   "outputs": [
    {
     "data": {
      "text/html": [
       "<div>\n",
       "<style scoped>\n",
       "    .dataframe tbody tr th:only-of-type {\n",
       "        vertical-align: middle;\n",
       "    }\n",
       "\n",
       "    .dataframe tbody tr th {\n",
       "        vertical-align: top;\n",
       "    }\n",
       "\n",
       "    .dataframe thead th {\n",
       "        text-align: right;\n",
       "    }\n",
       "</style>\n",
       "<table border=\"1\" class=\"dataframe\">\n",
       "  <thead>\n",
       "    <tr style=\"text-align: right;\">\n",
       "      <th></th>\n",
       "      <th>level_0</th>\n",
       "      <th>index</th>\n",
       "      <th>uuid</th>\n",
       "      <th>title</th>\n",
       "      <th>image</th>\n",
       "      <th>description</th>\n",
       "      <th>language</th>\n",
       "      <th>categories</th>\n",
       "      <th>website</th>\n",
       "      <th>author</th>\n",
       "      <th>itunes_id</th>\n",
       "      <th>description_length</th>\n",
       "    </tr>\n",
       "  </thead>\n",
       "  <tbody>\n",
       "    <tr>\n",
       "      <th>0</th>\n",
       "      <td>0</td>\n",
       "      <td>1</td>\n",
       "      <td>cbbefd691915468c90f87ab2f00473f9</td>\n",
       "      <td>Eat Sleep Code Podcast</td>\n",
       "      <td>http://is4.mzstatic.com/image/thumb/Music71/v4...</td>\n",
       "      <td>On the show we’ll be talking to passionate peo...</td>\n",
       "      <td>English</td>\n",
       "      <td>Tech News | Technology</td>\n",
       "      <td>http://developer.telerik.com/</td>\n",
       "      <td>Telerik</td>\n",
       "      <td>1015556393</td>\n",
       "      <td>59</td>\n",
       "    </tr>\n",
       "    <tr>\n",
       "      <th>1</th>\n",
       "      <td>1</td>\n",
       "      <td>3</td>\n",
       "      <td>0f50631ebad24cedb2fee80950f37a1a</td>\n",
       "      <td>The Tech M&amp;A Podcast</td>\n",
       "      <td>http://is1.mzstatic.com/image/thumb/Music71/v4...</td>\n",
       "      <td>The Tech M&amp;A Podcast pulls from the best of th...</td>\n",
       "      <td>English</td>\n",
       "      <td>Business News | Technology | Tech News | Business</td>\n",
       "      <td>http://www.corumgroup.com</td>\n",
       "      <td>Timothy Goddard</td>\n",
       "      <td>538160025</td>\n",
       "      <td>59</td>\n",
       "    </tr>\n",
       "    <tr>\n",
       "      <th>2</th>\n",
       "      <td>2</td>\n",
       "      <td>7</td>\n",
       "      <td>f4d85755dd6048978f27681ed59a20fe</td>\n",
       "      <td>Social Media, Mobility, Analytics, Cloud: Tech...</td>\n",
       "      <td>http://is2.mzstatic.com/image/thumb/Music118/v...</td>\n",
       "      <td>SMACtalk hosted by Brian Fanzo and Daniel Newm...</td>\n",
       "      <td>English</td>\n",
       "      <td>Management &amp; Marketing | Business | Technology...</td>\n",
       "      <td>http://smactalklive.live</td>\n",
       "      <td>Brian Fanzo &amp; Daniel Newman</td>\n",
       "      <td>953547333</td>\n",
       "      <td>52</td>\n",
       "    </tr>\n",
       "  </tbody>\n",
       "</table>\n",
       "</div>"
      ],
      "text/plain": [
       "   level_0  index                              uuid  \\\n",
       "0        0      1  cbbefd691915468c90f87ab2f00473f9   \n",
       "1        1      3  0f50631ebad24cedb2fee80950f37a1a   \n",
       "2        2      7  f4d85755dd6048978f27681ed59a20fe   \n",
       "\n",
       "                                               title  \\\n",
       "0                             Eat Sleep Code Podcast   \n",
       "1                               The Tech M&A Podcast   \n",
       "2  Social Media, Mobility, Analytics, Cloud: Tech...   \n",
       "\n",
       "                                               image  \\\n",
       "0  http://is4.mzstatic.com/image/thumb/Music71/v4...   \n",
       "1  http://is1.mzstatic.com/image/thumb/Music71/v4...   \n",
       "2  http://is2.mzstatic.com/image/thumb/Music118/v...   \n",
       "\n",
       "                                         description language  \\\n",
       "0  On the show we’ll be talking to passionate peo...  English   \n",
       "1  The Tech M&A Podcast pulls from the best of th...  English   \n",
       "2  SMACtalk hosted by Brian Fanzo and Daniel Newm...  English   \n",
       "\n",
       "                                          categories  \\\n",
       "0                             Tech News | Technology   \n",
       "1  Business News | Technology | Tech News | Business   \n",
       "2  Management & Marketing | Business | Technology...   \n",
       "\n",
       "                         website                       author   itunes_id  \\\n",
       "0  http://developer.telerik.com/                      Telerik  1015556393   \n",
       "1      http://www.corumgroup.com              Timothy Goddard   538160025   \n",
       "2       http://smactalklive.live  Brian Fanzo & Daniel Newman   953547333   \n",
       "\n",
       "   description_length  \n",
       "0                  59  \n",
       "1                  59  \n",
       "2                  52  "
      ]
     },
     "execution_count": 76,
     "metadata": {},
     "output_type": "execute_result"
    }
   ],
   "source": [
    "podcasts.head(3)"
   ]
  },
  {
   "cell_type": "markdown",
   "metadata": {},
   "source": [
    "#### Testing TF-IDF "
   ]
  },
  {
   "cell_type": "code",
   "execution_count": 35,
   "metadata": {},
   "outputs": [
    {
     "name": "stdout",
     "output_type": "stream",
     "text": [
      "CPU times: total: 4.62 s\n",
      "Wall time: 4.77 s\n"
     ]
    },
    {
     "data": {
      "text/plain": [
       "<59322x5000 sparse matrix of type '<class 'numpy.float64'>'\n",
       "\twith 1428214 stored elements in Compressed Sparse Row format>"
      ]
     },
     "execution_count": 35,
     "metadata": {},
     "output_type": "execute_result"
    }
   ],
   "source": [
    "%%time\n",
    " tf = TfidfVectorizer(analyzer = 'word', ngram_range = (1, 2), max_features = 5000, stop_words = \"english\")\n",
    "tf_idf = tf.fit_transform(podcasts['description'])\n",
    "tf_idf"
   ]
  },
  {
   "cell_type": "markdown",
   "metadata": {},
   "source": [
    "#### Testing CountVectorizer"
   ]
  },
  {
   "cell_type": "code",
   "execution_count": 77,
   "metadata": {},
   "outputs": [
    {
     "name": "stdout",
     "output_type": "stream",
     "text": [
      "CPU times: total: 6.08 s\n",
      "Wall time: 6.37 s\n"
     ]
    }
   ],
   "source": [
    "\n",
    "%%time\n",
    "\n",
    "# play around with the max_features to see which gives better recommendations \n",
    "\n",
    "cvec = CountVectorizer(analyzer = 'word', ngram_range = (1, 2), max_features = 5000, stop_words = \"english\")\n",
    "cvec = cvec.fit_transform(podcasts['description'])\n"
   ]
  },
  {
   "cell_type": "markdown",
   "metadata": {},
   "source": [
    "### Creating sparse matrix"
   ]
  },
  {
   "cell_type": "markdown",
   "metadata": {},
   "source": [
    "#### Appending vectorized sparse matrix with categories matrix"
   ]
  },
  {
   "cell_type": "code",
   "execution_count": 80,
   "metadata": {},
   "outputs": [
    {
     "data": {
      "text/plain": [
       "(59322, 67)"
      ]
     },
     "execution_count": 80,
     "metadata": {},
     "output_type": "execute_result"
    }
   ],
   "source": [
    "category_array = podcast_category_df.to_numpy()\n",
    "sparse_category = sparse.csr_matrix(category_array)\n",
    "sparse_category.shape"
   ]
  },
  {
   "cell_type": "code",
   "execution_count": 38,
   "metadata": {},
   "outputs": [],
   "source": [
    "tf_idf = hstack([tf_idf, sparse_category])"
   ]
  },
  {
   "cell_type": "code",
   "execution_count": 81,
   "metadata": {},
   "outputs": [],
   "source": [
    "cvec = hstack([cvec, sparse_category])"
   ]
  },
  {
   "cell_type": "code",
   "execution_count": 40,
   "metadata": {},
   "outputs": [
    {
     "name": "stdout",
     "output_type": "stream",
     "text": [
      "CPU times: total: 23 s\n",
      "Wall time: 23.9 s\n"
     ]
    }
   ],
   "source": [
    "%%time \n",
    "similarity_matrix_t = cosine_similarity(tf_idf, dense_output=False)"
   ]
  },
  {
   "cell_type": "code",
   "execution_count": 82,
   "metadata": {},
   "outputs": [
    {
     "name": "stdout",
     "output_type": "stream",
     "text": [
      "done\n",
      "CPU times: total: 25.9 s\n",
      "Wall time: 34 s\n"
     ]
    }
   ],
   "source": [
    "%%time \n",
    "similarity_matrix_c = cosine_similarity(cvec, dense_output=False)\n",
    "print('done')"
   ]
  },
  {
   "cell_type": "code",
   "execution_count": 41,
   "metadata": {},
   "outputs": [
    {
     "data": {
      "text/plain": [
       "(59322, 59322)"
      ]
     },
     "execution_count": 41,
     "metadata": {},
     "output_type": "execute_result"
    }
   ],
   "source": [
    "similarity_matrix_t.shape"
   ]
  },
  {
   "cell_type": "code",
   "execution_count": 83,
   "metadata": {},
   "outputs": [
    {
     "data": {
      "text/plain": [
       "(59322, 59322)"
      ]
     },
     "execution_count": 83,
     "metadata": {},
     "output_type": "execute_result"
    }
   ],
   "source": [
    "similarity_matrix_c.shape"
   ]
  },
  {
   "cell_type": "markdown",
   "metadata": {},
   "source": [
    "### Testing recommendation with top 5"
   ]
  },
  {
   "cell_type": "markdown",
   "metadata": {},
   "source": [
    "####  Recommendations from TFIDF Vectorize"
   ]
  },
  {
   "cell_type": "code",
   "execution_count": 45,
   "metadata": {},
   "outputs": [
    {
     "name": "stdout",
     "output_type": "stream",
     "text": [
      "0.6591785211043745 - Radio Diaries - \n",
      "      First-person diaries, sound portraits, and hidden chapters of history from Peabody Award-winning producer Joe Richman and the Radio Diaries team. From teenagers to octogenarians, prisoners to prison guards, bra saleswomen to lighthouse keepers. The extraordinary stories of ordinary life.  <a href=\"http://www.radiodiaries.org\">Radio Diaries</a> is a proud member of Radiotopia, from PRX. Learn more at <a href=\"http://radiotopia.fm/\">radiotopia.fm</a>.\n",
      "     \n",
      "\n",
      "0.6548793139878243 - Benjamen Walker's Theory of Everything - \n",
      "      Personally connecting the dots. All of them.  <a href=\"http://toe.prx.org\">Benjamen Walker's Theory of Everything</a> is a proud member of Radiotopia, from PRX. Learn more at <a href=\"http://radiotopia.fm/\">radiotopia.fm</a>.\n",
      "     \n",
      "\n",
      "0.592114475793706 - The Heart - <a href=\"http://www.theheartradio.org\">The Heart</a> is an audio art project about intimacy and humanity. A proud member of <a href=\"http://radiotopia.fm/\">Radiotopia</a> from PRX. \n",
      "\n",
      "0.536307723459129 - The Mortified Podcast - \n",
      "      The Mortified Podcast is a storytelling series where adults share the embarrassing things they created as kids—diaries, letters, lyrics &amp; beyond—in front of total strangers. PS: It totally likes you.  <a href=\"http://getmortified.com\">Mortified</a> is a proud member of Radiotopia, from PRX. Learn more at <a href=\"http://radiotopia.fm/\">radiotopia.fm</a>.\n",
      "     \n",
      "\n",
      "0.5042991717686879 - Love + Radio - \n",
      "      Nick van der Kolk's Love and Radio features in-depth, otherworldly-produced interviews with an eclectic range of subjects, from the seedy to the sublime. Get inside the mind of a rogue taxidermist. Find out what it's like to experience a stroke firsthand. Or spend time with an artist who gives away her life savings every night. You've never heard anything like it before.  <a href=\"http://loveandradio.org\">Love + Radio</a> is a proud member of Radiotopia. Learn more at <a href=\"http://radiotopia.fm/\">radiotopia.fm</a>.\n",
      "     \n",
      "\n",
      "Original - 99% Invisible -\n",
      "      Design is everywhere in our lives, perhaps most importantly in the places where we've just stopped noticing. 99% Invisible is a weekly exploration of the process and power of design and architecture. From award winning producer Roman Mars. Learn more at <a href=\"http://99percentinvisible.org\">99percentinvisible.org</a>.\n",
      "A proud member of Radiotopia, from PRX. Learn more at <a href=\"http://radiotopia.fm/\">radiotopia.fm</a>.\n",
      "    \n"
     ]
    }
   ],
   "source": [
    "x = podcasts[podcasts.title == '99% Invisible'].index[0]\n",
    "podcast_similarities = similarity_matrix_t[x].todense()\n",
    "similar_idx = podcast_similarities.argsort(axis=None)[:,-6:-1]\n",
    "for i in range(4,-1,-1):\n",
    "    print(podcast_similarities.item(similar_idx.item(i)), '-', podcasts.title[similar_idx.item(i)], '-', podcasts.description[similar_idx.item(i)], '\\n')\n",
    "print('Original - ' + podcasts.title[x] + ' -' + podcasts.description[x])"
   ]
  },
  {
   "cell_type": "markdown",
   "metadata": {},
   "source": [
    "####  Recommendations from CountVectorize"
   ]
  },
  {
   "cell_type": "code",
   "execution_count": 84,
   "metadata": {},
   "outputs": [
    {
     "data": {
      "text/plain": [
       "\"'.todense() method then unpacks each podcasts similarity matrix one at a time returning a 1x59322 matrix containing the similarity coefficients\\nof the referenced podcast against all 59,322 other podcasts. This avoids kernel crash.\""
      ]
     },
     "execution_count": 84,
     "metadata": {},
     "output_type": "execute_result"
    },
    {
     "name": "stdout",
     "output_type": "stream",
     "text": [
      "0.6694359441465274 - Benjamen Walker's Theory of Everything - \n",
      "      Personally connecting the dots. All of them.  <a href=\"http://toe.prx.org\">Benjamen Walker's Theory of Everything</a> is a proud member of Radiotopia, from PRX. Learn more at <a href=\"http://radiotopia.fm/\">radiotopia.fm</a>.\n",
      "     \n",
      "\n",
      "0.6128240249379643 - Radio Diaries - \n",
      "      First-person diaries, sound portraits, and hidden chapters of history from Peabody Award-winning producer Joe Richman and the Radio Diaries team. From teenagers to octogenarians, prisoners to prison guards, bra saleswomen to lighthouse keepers. The extraordinary stories of ordinary life.  <a href=\"http://www.radiodiaries.org\">Radio Diaries</a> is a proud member of Radiotopia, from PRX. Learn more at <a href=\"http://radiotopia.fm/\">radiotopia.fm</a>.\n",
      "     \n",
      "\n",
      "0.5477203179380679 - The Heart - <a href=\"http://www.theheartradio.org\">The Heart</a> is an audio art project about intimacy and humanity. A proud member of <a href=\"http://radiotopia.fm/\">Radiotopia</a> from PRX. \n",
      "\n",
      "0.511308302908249 - The Mortified Podcast - \n",
      "      The Mortified Podcast is a storytelling series where adults share the embarrassing things they created as kids—diaries, letters, lyrics &amp; beyond—in front of total strangers. PS: It totally likes you.  <a href=\"http://getmortified.com\">Mortified</a> is a proud member of Radiotopia, from PRX. Learn more at <a href=\"http://radiotopia.fm/\">radiotopia.fm</a>.\n",
      "     \n",
      "\n",
      "0.5031140762834015 - Strangers - From Lea Thau, Peabody award-winning producer and creator of The Moth Podcast and The Moth Radio Hour, comes her new storytelling baby, Strangers, part of KCRW's Independent Producer Project. Each episode is an empathy shot in your arm, featuring true stories about the people we meet, the connections we make, the heartbreaks we suffer, the kindnesses we encounter, and those frightful moments when we discover that WE aren't even who we thought we were.  <a href=\"http://www.storycentral.org/strangers/\">Strangers</a> is a proud member of Radiotopia, from PRX. Learn more at <a href=\"http://radiotopia.fm/\">radiotopia.fm</a>. \n",
      "\n",
      "Original - 99% Invisible -\n",
      "      Design is everywhere in our lives, perhaps most importantly in the places where we've just stopped noticing. 99% Invisible is a weekly exploration of the process and power of design and architecture. From award winning producer Roman Mars. Learn more at <a href=\"http://99percentinvisible.org\">99percentinvisible.org</a>.\n",
      "A proud member of Radiotopia, from PRX. Learn more at <a href=\"http://radiotopia.fm/\">radiotopia.fm</a>.\n",
      "    \n"
     ]
    }
   ],
   "source": [
    "x = podcasts[podcasts.title == '99% Invisible'].index[0]\n",
    "''''.todense() method then unpacks each podcasts similarity matrix one at a time returning a 1x59322 matrix containing the similarity coefficients\n",
    "of the referenced podcast against all 59,322 other podcasts. This avoids kernel crash.'''\n",
    "podcast_similarities = similarity_matrix_c[x].todense()\n",
    "similar_idx = podcast_similarities.argsort(axis=None)[:,-6:-1]\n",
    "for i in range(4,-1,-1):\n",
    "    print(podcast_similarities.item(similar_idx.item(i)), '-', podcasts.title[similar_idx.item(i)], '-', podcasts.description[similar_idx.item(i)], '\\n')\n",
    "print('Original - ' + podcasts.title[x] + ' -' + podcasts.description[x])"
   ]
  },
  {
   "cell_type": "markdown",
   "metadata": {},
   "source": [
    "As CountVectorizer suggesting slightly stronger similarities scores between the referenced podcast and the recommendation, CountVectorizer was used over TFIDFVectorizer."
   ]
  },
  {
   "cell_type": "markdown",
   "metadata": {},
   "source": [
    "## Generating Recommendations Database"
   ]
  },
  {
   "cell_type": "markdown",
   "metadata": {},
   "source": [
    "This function pre-generates a recommendations database and allows user to pull recommendations for a podcast from the saved database. "
   ]
  },
  {
   "cell_type": "markdown",
   "metadata": {},
   "source": [
    "#### Solving an index 0 is out of bounds for axis 0 with size 0"
   ]
  },
  {
   "cell_type": "code",
   "execution_count": 47,
   "metadata": {},
   "outputs": [
    {
     "data": {
      "text/plain": [
       "index                                                             57234\n",
       "uuid                                   d67c6effe2214f30ada75d3351834cd4\n",
       "title                                                               NaN\n",
       "image                 http://is1.mzstatic.com/image/thumb/Music111/v...\n",
       "description           Nole, Chris, and Terrence sit around a few mic...\n",
       "language                                                        English\n",
       "categories            Video Games | Games & Hobbies | Society & Culture\n",
       "website                                  https://napodcast.fireside.fm/\n",
       "author                                                              PPN\n",
       "itunes_id                                                    1224670344\n",
       "description_length                                                   23\n",
       "Name: 28001, dtype: object"
      ]
     },
     "execution_count": 47,
     "metadata": {},
     "output_type": "execute_result"
    }
   ],
   "source": [
    "podcasts.iloc[28001]"
   ]
  },
  {
   "cell_type": "code",
   "execution_count": 48,
   "metadata": {},
   "outputs": [
    {
     "name": "stderr",
     "output_type": "stream",
     "text": [
      "C:\\Users\\abhin\\AppData\\Local\\Temp\\ipykernel_11224\\1324453514.py:1: FutureWarning: ChainedAssignmentError: behaviour will change in pandas 3.0!\n",
      "You are setting values through chained assignment. Currently this works in certain cases, but when using Copy-on-Write (which will become the default behaviour in pandas 3.0) this will never work to update the original DataFrame or Series, because the intermediate object on which we are setting values will behave as a copy.\n",
      "A typical example is when you are setting values in a column of a DataFrame, like:\n",
      "\n",
      "df[\"col\"][row_indexer] = value\n",
      "\n",
      "Use `df.loc[row_indexer, \"col\"] = values` instead, to perform the assignment in a single step and ensure this keeps updating the original `df`.\n",
      "\n",
      "See the caveats in the documentation: https://pandas.pydata.org/pandas-docs/stable/user_guide/indexing.html#returning-a-view-versus-a-copy\n",
      "\n",
      "  podcasts.title.iloc[28001] = 'NAN'\n",
      "C:\\Users\\abhin\\AppData\\Local\\Temp\\ipykernel_11224\\1324453514.py:1: SettingWithCopyWarning: \n",
      "A value is trying to be set on a copy of a slice from a DataFrame\n",
      "\n",
      "See the caveats in the documentation: https://pandas.pydata.org/pandas-docs/stable/user_guide/indexing.html#returning-a-view-versus-a-copy\n",
      "  podcasts.title.iloc[28001] = 'NAN'\n"
     ]
    }
   ],
   "source": [
    "podcasts.title.iloc[28001] = 'NAN'"
   ]
  },
  {
   "cell_type": "code",
   "execution_count": 49,
   "metadata": {},
   "outputs": [
    {
     "data": {
      "text/plain": [
       "index                                                             57234\n",
       "uuid                                   d67c6effe2214f30ada75d3351834cd4\n",
       "title                                                               NAN\n",
       "image                 http://is1.mzstatic.com/image/thumb/Music111/v...\n",
       "description           Nole, Chris, and Terrence sit around a few mic...\n",
       "language                                                        English\n",
       "categories            Video Games | Games & Hobbies | Society & Culture\n",
       "website                                  https://napodcast.fireside.fm/\n",
       "author                                                              PPN\n",
       "itunes_id                                                    1224670344\n",
       "description_length                                                   23\n",
       "Name: 28001, dtype: object"
      ]
     },
     "execution_count": 49,
     "metadata": {},
     "output_type": "execute_result"
    }
   ],
   "source": [
    "podcasts.iloc[28001]"
   ]
  },
  {
   "cell_type": "markdown",
   "metadata": {},
   "source": [
    "This below step requires higher RAM configuration (32GB) to run successfully."
   ]
  },
  {
   "cell_type": "code",
   "execution_count": 64,
   "metadata": {
    "scrolled": true
   },
   "outputs": [
    {
     "name": "stdout",
     "output_type": "stream",
     "text": [
      "done\n",
      "CPU times: total: 8min 26s\n",
      "Wall time: 10min 30s\n"
     ]
    },
    {
     "data": {
      "text/html": [
       "<div>\n",
       "<style scoped>\n",
       "    .dataframe tbody tr th:only-of-type {\n",
       "        vertical-align: middle;\n",
       "    }\n",
       "\n",
       "    .dataframe tbody tr th {\n",
       "        vertical-align: top;\n",
       "    }\n",
       "\n",
       "    .dataframe thead th {\n",
       "        text-align: right;\n",
       "    }\n",
       "</style>\n",
       "<table border=\"1\" class=\"dataframe\">\n",
       "  <thead>\n",
       "    <tr style=\"text-align: right;\">\n",
       "      <th></th>\n",
       "      <th>ref_podcast</th>\n",
       "      <th>first_rec</th>\n",
       "      <th>second_rec</th>\n",
       "      <th>third_rec</th>\n",
       "      <th>fourth_rec</th>\n",
       "      <th>fifth_rec</th>\n",
       "    </tr>\n",
       "  </thead>\n",
       "  <tbody>\n",
       "    <tr>\n",
       "      <th>0</th>\n",
       "      <td>Eat Sleep Code Podcast</td>\n",
       "      <td>Stackify Developer Things</td>\n",
       "      <td>The freeCodeCamp Podcast</td>\n",
       "      <td>Oracle Developer Podcast</td>\n",
       "      <td>Storage Developer Conference</td>\n",
       "      <td>Complete Developer Podcast</td>\n",
       "    </tr>\n",
       "    <tr>\n",
       "      <th>1</th>\n",
       "      <td>The Tech M&amp;A Podcast</td>\n",
       "      <td>Technocrats (Audio)</td>\n",
       "      <td>Tech Reformation</td>\n",
       "      <td>Ado Veli Podcast</td>\n",
       "      <td>Speaking in Tech</td>\n",
       "      <td>The TechBox</td>\n",
       "    </tr>\n",
       "    <tr>\n",
       "      <th>2</th>\n",
       "      <td>Social Media, Mobility, Analytics, Cloud: Tech...</td>\n",
       "      <td>Two Cracked Pots</td>\n",
       "      <td>The Communicators</td>\n",
       "      <td>Lanced Podcast</td>\n",
       "      <td>Technology Wizard</td>\n",
       "      <td>The Cloudcast (.net) - Weekly Cloud Computing ...</td>\n",
       "    </tr>\n",
       "    <tr>\n",
       "      <th>3</th>\n",
       "      <td>Radio Leo (Video LO)</td>\n",
       "      <td>Aggregate Feed - LoadingReadyRun</td>\n",
       "      <td>Melted Chocolate Master Feed</td>\n",
       "      <td>Radio Leo (Video LO)</td>\n",
       "      <td>Radio Leo (Video HD)</td>\n",
       "      <td>Radio Leo (MP3)</td>\n",
       "    </tr>\n",
       "    <tr>\n",
       "      <th>4</th>\n",
       "      <td>Digital India</td>\n",
       "      <td>AMPUP Your Digital Marketing</td>\n",
       "      <td>Social Media Talks Podcast Kompass Media</td>\n",
       "      <td>The Science of Social Media</td>\n",
       "      <td>VADEMECUM BLOGERA</td>\n",
       "      <td>The EchoJunction Podcast with Adam Fraser</td>\n",
       "    </tr>\n",
       "  </tbody>\n",
       "</table>\n",
       "</div>"
      ],
      "text/plain": [
       "                                         ref_podcast  \\\n",
       "0                             Eat Sleep Code Podcast   \n",
       "1                               The Tech M&A Podcast   \n",
       "2  Social Media, Mobility, Analytics, Cloud: Tech...   \n",
       "3                               Radio Leo (Video LO)   \n",
       "4                                      Digital India   \n",
       "\n",
       "                          first_rec                                second_rec  \\\n",
       "0         Stackify Developer Things                  The freeCodeCamp Podcast   \n",
       "1               Technocrats (Audio)                          Tech Reformation   \n",
       "2                  Two Cracked Pots                         The Communicators   \n",
       "3  Aggregate Feed - LoadingReadyRun              Melted Chocolate Master Feed   \n",
       "4      AMPUP Your Digital Marketing  Social Media Talks Podcast Kompass Media   \n",
       "\n",
       "                     third_rec                    fourth_rec  \\\n",
       "0     Oracle Developer Podcast  Storage Developer Conference   \n",
       "1             Ado Veli Podcast              Speaking in Tech   \n",
       "2               Lanced Podcast             Technology Wizard   \n",
       "3         Radio Leo (Video LO)          Radio Leo (Video HD)   \n",
       "4  The Science of Social Media             VADEMECUM BLOGERA   \n",
       "\n",
       "                                           fifth_rec  \n",
       "0                         Complete Developer Podcast  \n",
       "1                                        The TechBox  \n",
       "2  The Cloudcast (.net) - Weekly Cloud Computing ...  \n",
       "3                                    Radio Leo (MP3)  \n",
       "4          The EchoJunction Podcast with Adam Fraser  "
      ]
     },
     "execution_count": 64,
     "metadata": {},
     "output_type": "execute_result"
    }
   ],
   "source": [
    "%%time\n",
    "rec_db = {}\n",
    "for podcast in podcasts.title:\n",
    "    # unpacks information on respective podcast and saves info into a dictionary\n",
    "    ref_podcast = podcasts[podcasts.title == podcast].index[0] \n",
    "    x = ref_podcast\n",
    "    podcast_similarities = similarity_matrix_c[x].todense()\n",
    "    similar_idx = podcast_similarities.argsort(axis=None)[:,-6:-1]\n",
    "    rec_db[podcast] = podcasts.title[similar_idx.tolist()[0]].tolist()\n",
    "    \n",
    "# Convert dictionary to DataFrame\n",
    "rec_db = pd.DataFrame.from_dict(rec_db, orient='index', columns=[\"first_rec\", \"second_rec\", \"third_rec\", \"fourth_rec\", \"fifth_rec\"])\n",
    "\n",
    "# Add a column for the reference podcast\n",
    "rec_db = rec_db.reset_index().rename(columns={\"index\": \"ref_podcast\"})\n",
    "\n",
    "# Save to CSV\n",
    "rec_db.to_csv(r\"C:\\Users\\abhin\\Downloads\\podcast_recommendation\\recommendations_database_cvec.csv\", index=False)\n",
    "print(\"done\")\n",
    "rec_db.head()"
   ]
  },
  {
   "cell_type": "code",
   "execution_count": 65,
   "metadata": {},
   "outputs": [
    {
     "name": "stdout",
     "output_type": "stream",
     "text": [
      "done\n"
     ]
    }
   ],
   "source": [
    "podcasts.to_csv(r\"C:\\Users\\abhin\\Downloads\\podcast_recommendation\\podcast_data_cleaned.csv\", index=False)\n",
    "print(\"done\")"
   ]
  },
  {
   "cell_type": "markdown",
   "metadata": {},
   "source": [
    "### LookUp function for podcast recommendations"
   ]
  },
  {
   "cell_type": "code",
   "execution_count": 21,
   "metadata": {},
   "outputs": [
    {
     "data": {
      "text/html": [
       "<div>\n",
       "<style scoped>\n",
       "    .dataframe tbody tr th:only-of-type {\n",
       "        vertical-align: middle;\n",
       "    }\n",
       "\n",
       "    .dataframe tbody tr th {\n",
       "        vertical-align: top;\n",
       "    }\n",
       "\n",
       "    .dataframe thead th {\n",
       "        text-align: right;\n",
       "    }\n",
       "</style>\n",
       "<table border=\"1\" class=\"dataframe\">\n",
       "  <thead>\n",
       "    <tr style=\"text-align: right;\">\n",
       "      <th></th>\n",
       "      <th>ref_podcast</th>\n",
       "      <th>first_rec</th>\n",
       "      <th>second_rec</th>\n",
       "      <th>third_rec</th>\n",
       "      <th>fourth_rec</th>\n",
       "      <th>fifth_rec</th>\n",
       "    </tr>\n",
       "  </thead>\n",
       "  <tbody>\n",
       "    <tr>\n",
       "      <th>0</th>\n",
       "      <td>Eat Sleep Code Podcast</td>\n",
       "      <td>Stackify Developer Things</td>\n",
       "      <td>The freeCodeCamp Podcast</td>\n",
       "      <td>Oracle Developer Podcast</td>\n",
       "      <td>Storage Developer Conference</td>\n",
       "      <td>Complete Developer Podcast</td>\n",
       "    </tr>\n",
       "    <tr>\n",
       "      <th>1</th>\n",
       "      <td>The Tech M&amp;A Podcast</td>\n",
       "      <td>Technocrats (Audio)</td>\n",
       "      <td>Tech Reformation</td>\n",
       "      <td>Ado Veli Podcast</td>\n",
       "      <td>Speaking in Tech</td>\n",
       "      <td>The TechBox</td>\n",
       "    </tr>\n",
       "    <tr>\n",
       "      <th>2</th>\n",
       "      <td>Social Media, Mobility, Analytics, Cloud: Tech...</td>\n",
       "      <td>Two Cracked Pots</td>\n",
       "      <td>The Communicators</td>\n",
       "      <td>Lanced Podcast</td>\n",
       "      <td>Technology Wizard</td>\n",
       "      <td>The Cloudcast (.net) - Weekly Cloud Computing ...</td>\n",
       "    </tr>\n",
       "    <tr>\n",
       "      <th>3</th>\n",
       "      <td>Radio Leo (Video LO)</td>\n",
       "      <td>Aggregate Feed - LoadingReadyRun</td>\n",
       "      <td>Melted Chocolate Master Feed</td>\n",
       "      <td>Radio Leo (Video LO)</td>\n",
       "      <td>Radio Leo (Video HD)</td>\n",
       "      <td>Radio Leo (MP3)</td>\n",
       "    </tr>\n",
       "    <tr>\n",
       "      <th>4</th>\n",
       "      <td>Digital India</td>\n",
       "      <td>AMPUP Your Digital Marketing</td>\n",
       "      <td>Social Media Talks Podcast Kompass Media</td>\n",
       "      <td>The Science of Social Media</td>\n",
       "      <td>VADEMECUM BLOGERA</td>\n",
       "      <td>The EchoJunction Podcast with Adam Fraser</td>\n",
       "    </tr>\n",
       "  </tbody>\n",
       "</table>\n",
       "</div>"
      ],
      "text/plain": [
       "                                         ref_podcast  \\\n",
       "0                             Eat Sleep Code Podcast   \n",
       "1                               The Tech M&A Podcast   \n",
       "2  Social Media, Mobility, Analytics, Cloud: Tech...   \n",
       "3                               Radio Leo (Video LO)   \n",
       "4                                      Digital India   \n",
       "\n",
       "                          first_rec                                second_rec  \\\n",
       "0         Stackify Developer Things                  The freeCodeCamp Podcast   \n",
       "1               Technocrats (Audio)                          Tech Reformation   \n",
       "2                  Two Cracked Pots                         The Communicators   \n",
       "3  Aggregate Feed - LoadingReadyRun              Melted Chocolate Master Feed   \n",
       "4      AMPUP Your Digital Marketing  Social Media Talks Podcast Kompass Media   \n",
       "\n",
       "                     third_rec                    fourth_rec  \\\n",
       "0     Oracle Developer Podcast  Storage Developer Conference   \n",
       "1             Ado Veli Podcast              Speaking in Tech   \n",
       "2               Lanced Podcast             Technology Wizard   \n",
       "3         Radio Leo (Video LO)          Radio Leo (Video HD)   \n",
       "4  The Science of Social Media             VADEMECUM BLOGERA   \n",
       "\n",
       "                                           fifth_rec  \n",
       "0                         Complete Developer Podcast  \n",
       "1                                        The TechBox  \n",
       "2  The Cloudcast (.net) - Weekly Cloud Computing ...  \n",
       "3                                    Radio Leo (MP3)  \n",
       "4          The EchoJunction Podcast with Adam Fraser  "
      ]
     },
     "execution_count": 21,
     "metadata": {},
     "output_type": "execute_result"
    }
   ],
   "source": [
    "df = pd.read_csv(r\"C:\\Users\\abhin\\Downloads\\podcast_recommendation\\recommendations_database_cvec.csv\")\n",
    "df.head()"
   ]
  },
  {
   "cell_type": "code",
   "execution_count": 22,
   "metadata": {},
   "outputs": [
    {
     "data": {
      "text/html": [
       "<div>\n",
       "<style scoped>\n",
       "    .dataframe tbody tr th:only-of-type {\n",
       "        vertical-align: middle;\n",
       "    }\n",
       "\n",
       "    .dataframe tbody tr th {\n",
       "        vertical-align: top;\n",
       "    }\n",
       "\n",
       "    .dataframe thead th {\n",
       "        text-align: right;\n",
       "    }\n",
       "</style>\n",
       "<table border=\"1\" class=\"dataframe\">\n",
       "  <thead>\n",
       "    <tr style=\"text-align: right;\">\n",
       "      <th></th>\n",
       "      <th>ref_podcast</th>\n",
       "      <th>first_rec</th>\n",
       "      <th>second_rec</th>\n",
       "      <th>third_rec</th>\n",
       "      <th>fourth_rec</th>\n",
       "      <th>fifth_rec</th>\n",
       "    </tr>\n",
       "  </thead>\n",
       "  <tbody>\n",
       "    <tr>\n",
       "      <th>0</th>\n",
       "      <td>Eat Sleep Code Podcast</td>\n",
       "      <td>Stackify Developer Things</td>\n",
       "      <td>The freeCodeCamp Podcast</td>\n",
       "      <td>Oracle Developer Podcast</td>\n",
       "      <td>Storage Developer Conference</td>\n",
       "      <td>Complete Developer Podcast</td>\n",
       "    </tr>\n",
       "    <tr>\n",
       "      <th>1</th>\n",
       "      <td>The Tech M&amp;A Podcast</td>\n",
       "      <td>Technocrats (Audio)</td>\n",
       "      <td>Tech Reformation</td>\n",
       "      <td>Ado Veli Podcast</td>\n",
       "      <td>Speaking in Tech</td>\n",
       "      <td>The TechBox</td>\n",
       "    </tr>\n",
       "    <tr>\n",
       "      <th>2</th>\n",
       "      <td>Social Media, Mobility, Analytics, Cloud: Tech...</td>\n",
       "      <td>Two Cracked Pots</td>\n",
       "      <td>The Communicators</td>\n",
       "      <td>Lanced Podcast</td>\n",
       "      <td>Technology Wizard</td>\n",
       "      <td>The Cloudcast (.net) - Weekly Cloud Computing ...</td>\n",
       "    </tr>\n",
       "    <tr>\n",
       "      <th>3</th>\n",
       "      <td>Radio Leo (Video LO)</td>\n",
       "      <td>Aggregate Feed - LoadingReadyRun</td>\n",
       "      <td>Melted Chocolate Master Feed</td>\n",
       "      <td>Radio Leo (Video LO)</td>\n",
       "      <td>Radio Leo (Video HD)</td>\n",
       "      <td>Radio Leo (MP3)</td>\n",
       "    </tr>\n",
       "    <tr>\n",
       "      <th>4</th>\n",
       "      <td>Digital India</td>\n",
       "      <td>AMPUP Your Digital Marketing</td>\n",
       "      <td>Social Media Talks Podcast Kompass Media</td>\n",
       "      <td>The Science of Social Media</td>\n",
       "      <td>VADEMECUM BLOGERA</td>\n",
       "      <td>The EchoJunction Podcast with Adam Fraser</td>\n",
       "    </tr>\n",
       "  </tbody>\n",
       "</table>\n",
       "</div>"
      ],
      "text/plain": [
       "                                         ref_podcast  \\\n",
       "0                             Eat Sleep Code Podcast   \n",
       "1                               The Tech M&A Podcast   \n",
       "2  Social Media, Mobility, Analytics, Cloud: Tech...   \n",
       "3                               Radio Leo (Video LO)   \n",
       "4                                      Digital India   \n",
       "\n",
       "                          first_rec                                second_rec  \\\n",
       "0         Stackify Developer Things                  The freeCodeCamp Podcast   \n",
       "1               Technocrats (Audio)                          Tech Reformation   \n",
       "2                  Two Cracked Pots                         The Communicators   \n",
       "3  Aggregate Feed - LoadingReadyRun              Melted Chocolate Master Feed   \n",
       "4      AMPUP Your Digital Marketing  Social Media Talks Podcast Kompass Media   \n",
       "\n",
       "                     third_rec                    fourth_rec  \\\n",
       "0     Oracle Developer Podcast  Storage Developer Conference   \n",
       "1             Ado Veli Podcast              Speaking in Tech   \n",
       "2               Lanced Podcast             Technology Wizard   \n",
       "3         Radio Leo (Video LO)          Radio Leo (Video HD)   \n",
       "4  The Science of Social Media             VADEMECUM BLOGERA   \n",
       "\n",
       "                                           fifth_rec  \n",
       "0                         Complete Developer Podcast  \n",
       "1                                        The TechBox  \n",
       "2  The Cloudcast (.net) - Weekly Cloud Computing ...  \n",
       "3                                    Radio Leo (MP3)  \n",
       "4          The EchoJunction Podcast with Adam Fraser  "
      ]
     },
     "execution_count": 22,
     "metadata": {},
     "output_type": "execute_result"
    }
   ],
   "source": [
    "df = df.rename(columns={\"Unnamed: 0\": \"ref_podcast\", \n",
    "                   \"0\": \"first_rec\",\n",
    "                   \"1\": \"second_rec\",\n",
    "                   \"2\": \"third_rec\",\n",
    "                   \"3\": \"fourth_rec\",\n",
    "                   \"4\": \"fifth_rec\"})\n",
    "\n",
    "df.head()"
   ]
  },
  {
   "cell_type": "code",
   "execution_count": 43,
   "metadata": {},
   "outputs": [
    {
     "data": {
      "text/html": [
       "<div>\n",
       "<style scoped>\n",
       "    .dataframe tbody tr th:only-of-type {\n",
       "        vertical-align: middle;\n",
       "    }\n",
       "\n",
       "    .dataframe tbody tr th {\n",
       "        vertical-align: top;\n",
       "    }\n",
       "\n",
       "    .dataframe thead th {\n",
       "        text-align: right;\n",
       "    }\n",
       "</style>\n",
       "<table border=\"1\" class=\"dataframe\">\n",
       "  <thead>\n",
       "    <tr style=\"text-align: right;\">\n",
       "      <th></th>\n",
       "      <th>index</th>\n",
       "      <th>uuid</th>\n",
       "      <th>title</th>\n",
       "      <th>image</th>\n",
       "      <th>description</th>\n",
       "      <th>language</th>\n",
       "      <th>categories</th>\n",
       "      <th>website</th>\n",
       "      <th>author</th>\n",
       "      <th>itunes_id</th>\n",
       "      <th>description_length</th>\n",
       "    </tr>\n",
       "  </thead>\n",
       "  <tbody>\n",
       "    <tr>\n",
       "      <th>0</th>\n",
       "      <td>1</td>\n",
       "      <td>cbbefd691915468c90f87ab2f00473f9</td>\n",
       "      <td>Eat Sleep Code Podcast</td>\n",
       "      <td>http://is4.mzstatic.com/image/thumb/Music71/v4...</td>\n",
       "      <td>On the show we’ll be talking to passionate peo...</td>\n",
       "      <td>English</td>\n",
       "      <td>Tech News | Technology</td>\n",
       "      <td>http://developer.telerik.com/</td>\n",
       "      <td>Telerik</td>\n",
       "      <td>1015556393</td>\n",
       "      <td>59</td>\n",
       "    </tr>\n",
       "    <tr>\n",
       "      <th>1</th>\n",
       "      <td>3</td>\n",
       "      <td>0f50631ebad24cedb2fee80950f37a1a</td>\n",
       "      <td>The Tech M&amp;A Podcast</td>\n",
       "      <td>http://is1.mzstatic.com/image/thumb/Music71/v4...</td>\n",
       "      <td>The Tech M&amp;A Podcast pulls from the best of th...</td>\n",
       "      <td>English</td>\n",
       "      <td>Business News | Technology | Tech News | Business</td>\n",
       "      <td>http://www.corumgroup.com</td>\n",
       "      <td>Timothy Goddard</td>\n",
       "      <td>538160025</td>\n",
       "      <td>59</td>\n",
       "    </tr>\n",
       "    <tr>\n",
       "      <th>2</th>\n",
       "      <td>7</td>\n",
       "      <td>f4d85755dd6048978f27681ed59a20fe</td>\n",
       "      <td>Social Media, Mobility, Analytics, Cloud: Tech...</td>\n",
       "      <td>http://is2.mzstatic.com/image/thumb/Music118/v...</td>\n",
       "      <td>SMACtalk hosted by Brian Fanzo and Daniel Newm...</td>\n",
       "      <td>English</td>\n",
       "      <td>Management &amp; Marketing | Business | Technology...</td>\n",
       "      <td>http://smactalklive.live</td>\n",
       "      <td>Brian Fanzo &amp; Daniel Newman</td>\n",
       "      <td>953547333</td>\n",
       "      <td>52</td>\n",
       "    </tr>\n",
       "    <tr>\n",
       "      <th>3</th>\n",
       "      <td>8</td>\n",
       "      <td>7b131a464c4b4f34a8f62de738417fc4</td>\n",
       "      <td>Radio Leo (Video LO)</td>\n",
       "      <td>http://is4.mzstatic.com/image/thumb/Music71/v4...</td>\n",
       "      <td>A compendium of netcasts from the Chief TWiT, ...</td>\n",
       "      <td>English</td>\n",
       "      <td>Tech News | Technology | News &amp; Politics | Gad...</td>\n",
       "      <td>https://twit.tv/shows/radio-leo</td>\n",
       "      <td>Leo Laporte</td>\n",
       "      <td>808313192</td>\n",
       "      <td>34</td>\n",
       "    </tr>\n",
       "    <tr>\n",
       "      <th>4</th>\n",
       "      <td>9</td>\n",
       "      <td>7bbb6386cacb45518f2e5b2427c4cbb1</td>\n",
       "      <td>Digital India</td>\n",
       "      <td>http://is4.mzstatic.com/image/thumb/Music60/v4...</td>\n",
       "      <td>Suresh Babu, founder and head of the Web Marke...</td>\n",
       "      <td>English</td>\n",
       "      <td>Podcasting | Management &amp; Marketing | Tech New...</td>\n",
       "      <td>https://firpodcastnetwork.com/digital-india/</td>\n",
       "      <td>Digital India</td>\n",
       "      <td>1003892435</td>\n",
       "      <td>29</td>\n",
       "    </tr>\n",
       "  </tbody>\n",
       "</table>\n",
       "</div>"
      ],
      "text/plain": [
       "   index                              uuid  \\\n",
       "0      1  cbbefd691915468c90f87ab2f00473f9   \n",
       "1      3  0f50631ebad24cedb2fee80950f37a1a   \n",
       "2      7  f4d85755dd6048978f27681ed59a20fe   \n",
       "3      8  7b131a464c4b4f34a8f62de738417fc4   \n",
       "4      9  7bbb6386cacb45518f2e5b2427c4cbb1   \n",
       "\n",
       "                                               title  \\\n",
       "0                             Eat Sleep Code Podcast   \n",
       "1                               The Tech M&A Podcast   \n",
       "2  Social Media, Mobility, Analytics, Cloud: Tech...   \n",
       "3                               Radio Leo (Video LO)   \n",
       "4                                      Digital India   \n",
       "\n",
       "                                               image  \\\n",
       "0  http://is4.mzstatic.com/image/thumb/Music71/v4...   \n",
       "1  http://is1.mzstatic.com/image/thumb/Music71/v4...   \n",
       "2  http://is2.mzstatic.com/image/thumb/Music118/v...   \n",
       "3  http://is4.mzstatic.com/image/thumb/Music71/v4...   \n",
       "4  http://is4.mzstatic.com/image/thumb/Music60/v4...   \n",
       "\n",
       "                                         description language  \\\n",
       "0  On the show we’ll be talking to passionate peo...  English   \n",
       "1  The Tech M&A Podcast pulls from the best of th...  English   \n",
       "2  SMACtalk hosted by Brian Fanzo and Daniel Newm...  English   \n",
       "3  A compendium of netcasts from the Chief TWiT, ...  English   \n",
       "4  Suresh Babu, founder and head of the Web Marke...  English   \n",
       "\n",
       "                                          categories  \\\n",
       "0                             Tech News | Technology   \n",
       "1  Business News | Technology | Tech News | Business   \n",
       "2  Management & Marketing | Business | Technology...   \n",
       "3  Tech News | Technology | News & Politics | Gad...   \n",
       "4  Podcasting | Management & Marketing | Tech New...   \n",
       "\n",
       "                                        website                       author  \\\n",
       "0                 http://developer.telerik.com/                      Telerik   \n",
       "1                     http://www.corumgroup.com              Timothy Goddard   \n",
       "2                      http://smactalklive.live  Brian Fanzo & Daniel Newman   \n",
       "3               https://twit.tv/shows/radio-leo                  Leo Laporte   \n",
       "4  https://firpodcastnetwork.com/digital-india/                Digital India   \n",
       "\n",
       "    itunes_id  description_length  \n",
       "0  1015556393                  59  \n",
       "1   538160025                  59  \n",
       "2   953547333                  52  \n",
       "3   808313192                  34  \n",
       "4  1003892435                  29  "
      ]
     },
     "execution_count": 43,
     "metadata": {},
     "output_type": "execute_result"
    }
   ],
   "source": [
    "df.head()"
   ]
  },
  {
   "cell_type": "code",
   "execution_count": 23,
   "metadata": {},
   "outputs": [],
   "source": [
    "def recommendation_lookup(rec_db, podcast_title):\n",
    "    return rec_db[rec_db['ref_podcast'] == podcast_title]"
   ]
  },
  {
   "cell_type": "code",
   "execution_count": 24,
   "metadata": {},
   "outputs": [
    {
     "data": {
      "text/html": [
       "<div>\n",
       "<style scoped>\n",
       "    .dataframe tbody tr th:only-of-type {\n",
       "        vertical-align: middle;\n",
       "    }\n",
       "\n",
       "    .dataframe tbody tr th {\n",
       "        vertical-align: top;\n",
       "    }\n",
       "\n",
       "    .dataframe thead th {\n",
       "        text-align: right;\n",
       "    }\n",
       "</style>\n",
       "<table border=\"1\" class=\"dataframe\">\n",
       "  <thead>\n",
       "    <tr style=\"text-align: right;\">\n",
       "      <th></th>\n",
       "      <th>ref_podcast</th>\n",
       "      <th>first_rec</th>\n",
       "      <th>second_rec</th>\n",
       "      <th>third_rec</th>\n",
       "      <th>fourth_rec</th>\n",
       "      <th>fifth_rec</th>\n",
       "    </tr>\n",
       "  </thead>\n",
       "  <tbody>\n",
       "    <tr>\n",
       "      <th>25725</th>\n",
       "      <td>99% Invisible</td>\n",
       "      <td>Strangers</td>\n",
       "      <td>The Mortified Podcast</td>\n",
       "      <td>The Heart</td>\n",
       "      <td>Radio Diaries</td>\n",
       "      <td>Benjamen Walker's Theory of Everything</td>\n",
       "    </tr>\n",
       "  </tbody>\n",
       "</table>\n",
       "</div>"
      ],
      "text/plain": [
       "         ref_podcast  first_rec             second_rec  third_rec  \\\n",
       "25725  99% Invisible  Strangers  The Mortified Podcast  The Heart   \n",
       "\n",
       "          fourth_rec                               fifth_rec  \n",
       "25725  Radio Diaries  Benjamen Walker's Theory of Everything  "
      ]
     },
     "execution_count": 24,
     "metadata": {},
     "output_type": "execute_result"
    }
   ],
   "source": [
    "recommendation_lookup(df, '99% Invisible')"
   ]
  },
  {
   "cell_type": "code",
   "execution_count": 25,
   "metadata": {},
   "outputs": [
    {
     "data": {
      "text/html": [
       "<div>\n",
       "<style scoped>\n",
       "    .dataframe tbody tr th:only-of-type {\n",
       "        vertical-align: middle;\n",
       "    }\n",
       "\n",
       "    .dataframe tbody tr th {\n",
       "        vertical-align: top;\n",
       "    }\n",
       "\n",
       "    .dataframe thead th {\n",
       "        text-align: right;\n",
       "    }\n",
       "</style>\n",
       "<table border=\"1\" class=\"dataframe\">\n",
       "  <thead>\n",
       "    <tr style=\"text-align: right;\">\n",
       "      <th></th>\n",
       "      <th>ref_podcast</th>\n",
       "      <th>first_rec</th>\n",
       "      <th>second_rec</th>\n",
       "      <th>third_rec</th>\n",
       "      <th>fourth_rec</th>\n",
       "      <th>fifth_rec</th>\n",
       "    </tr>\n",
       "  </thead>\n",
       "  <tbody>\n",
       "    <tr>\n",
       "      <th>4</th>\n",
       "      <td>Digital India</td>\n",
       "      <td>AMPUP Your Digital Marketing</td>\n",
       "      <td>Social Media Talks Podcast Kompass Media</td>\n",
       "      <td>The Science of Social Media</td>\n",
       "      <td>VADEMECUM BLOGERA</td>\n",
       "      <td>The EchoJunction Podcast with Adam Fraser</td>\n",
       "    </tr>\n",
       "  </tbody>\n",
       "</table>\n",
       "</div>"
      ],
      "text/plain": [
       "     ref_podcast                     first_rec  \\\n",
       "4  Digital India  AMPUP Your Digital Marketing   \n",
       "\n",
       "                                 second_rec                    third_rec  \\\n",
       "4  Social Media Talks Podcast Kompass Media  The Science of Social Media   \n",
       "\n",
       "          fourth_rec                                  fifth_rec  \n",
       "4  VADEMECUM BLOGERA  The EchoJunction Podcast with Adam Fraser  "
      ]
     },
     "execution_count": 25,
     "metadata": {},
     "output_type": "execute_result"
    }
   ],
   "source": [
    "recommendation_lookup(df, 'Digital India')"
   ]
  },
  {
   "cell_type": "markdown",
   "metadata": {},
   "source": [
    "## Generating recommendations on unseen data"
   ]
  },
  {
   "cell_type": "markdown",
   "metadata": {},
   "source": [
    "**NOTE**: Reset kernel before proceeding.\n",
    "\n",
    "This function generates a recommendation based on what user has entered and returns recommendations. "
   ]
  },
  {
   "cell_type": "code",
   "execution_count": 41,
   "metadata": {},
   "outputs": [
    {
     "name": "stdout",
     "output_type": "stream",
     "text": [
      "done\n"
     ]
    }
   ],
   "source": [
    "import pandas as pd\n",
    "podcasts_z = pd.read_csv(r\"C:\\Users\\abhin\\Downloads\\podcast_recommendation\\podcast_data_cleaned.csv\")\n",
    "print(\"done\")"
   ]
  },
  {
   "cell_type": "code",
   "execution_count": 42,
   "metadata": {},
   "outputs": [
    {
     "data": {
      "text/plain": [
       "(59322, 11)"
      ]
     },
     "execution_count": 42,
     "metadata": {},
     "output_type": "execute_result"
    }
   ],
   "source": [
    "podcasts_z.shape"
   ]
  },
  {
   "cell_type": "code",
   "execution_count": 43,
   "metadata": {},
   "outputs": [
    {
     "data": {
      "text/plain": [
       "index                   0\n",
       "uuid                    0\n",
       "title                   0\n",
       "image                   0\n",
       "description             0\n",
       "language                0\n",
       "categories              0\n",
       "website               607\n",
       "author                722\n",
       "itunes_id               0\n",
       "description_length      0\n",
       "dtype: int64"
      ]
     },
     "execution_count": 43,
     "metadata": {},
     "output_type": "execute_result"
    }
   ],
   "source": [
    "podcasts_z.isnull().sum()"
   ]
  },
  {
   "cell_type": "code",
   "execution_count": 4,
   "metadata": {},
   "outputs": [],
   "source": [
    "# PROCESS \n",
    "# search for podcast in database, if it doesn't appear in the search bar,\n",
    "# try other option 'Recommend based on Unseen Data'\n",
    "# I.E: enter your podcast title, short description (preferably 20 words, can be just key words) and the one of these categories (drop down menu)\n",
    "\n",
    "# possible bug, what if the person enters an existing podcast into the alternative option? case sensitive or not,\n",
    "# stops the person from entering an existing podcast. [something like that~~]\n",
    "new_podcast_title = 'Wait, Hold Up!' \n",
    "new_podcast_description = 'Each week, tune in as Yarel and Jessica interview people you know (or who they think you should know) who are on their grind and learn the ''wait, hold up'' moments that changed their lives. When they''re not with a guest they''re diving into the latest in pop culture & politics.'\n",
    "new_podcast_categories = 'Society & Culture | Self-Help'"
   ]
  },
  {
   "cell_type": "code",
   "execution_count": 45,
   "metadata": {},
   "outputs": [
    {
     "data": {
      "text/html": [
       "<div>\n",
       "<style scoped>\n",
       "    .dataframe tbody tr th:only-of-type {\n",
       "        vertical-align: middle;\n",
       "    }\n",
       "\n",
       "    .dataframe tbody tr th {\n",
       "        vertical-align: top;\n",
       "    }\n",
       "\n",
       "    .dataframe thead th {\n",
       "        text-align: right;\n",
       "    }\n",
       "</style>\n",
       "<table border=\"1\" class=\"dataframe\">\n",
       "  <thead>\n",
       "    <tr style=\"text-align: right;\">\n",
       "      <th></th>\n",
       "      <th>index</th>\n",
       "      <th>uuid</th>\n",
       "      <th>title</th>\n",
       "      <th>image</th>\n",
       "      <th>description</th>\n",
       "      <th>language</th>\n",
       "      <th>categories</th>\n",
       "      <th>website</th>\n",
       "      <th>author</th>\n",
       "      <th>itunes_id</th>\n",
       "      <th>description_length</th>\n",
       "    </tr>\n",
       "  </thead>\n",
       "  <tbody>\n",
       "    <tr>\n",
       "      <th>0</th>\n",
       "      <td>1</td>\n",
       "      <td>cbbefd691915468c90f87ab2f00473f9</td>\n",
       "      <td>Eat Sleep Code Podcast</td>\n",
       "      <td>http://is4.mzstatic.com/image/thumb/Music71/v4...</td>\n",
       "      <td>On the show we’ll be talking to passionate peo...</td>\n",
       "      <td>English</td>\n",
       "      <td>Tech News | Technology</td>\n",
       "      <td>http://developer.telerik.com/</td>\n",
       "      <td>Telerik</td>\n",
       "      <td>1015556393</td>\n",
       "      <td>59</td>\n",
       "    </tr>\n",
       "    <tr>\n",
       "      <th>1</th>\n",
       "      <td>3</td>\n",
       "      <td>0f50631ebad24cedb2fee80950f37a1a</td>\n",
       "      <td>The Tech M&amp;A Podcast</td>\n",
       "      <td>http://is1.mzstatic.com/image/thumb/Music71/v4...</td>\n",
       "      <td>The Tech M&amp;A Podcast pulls from the best of th...</td>\n",
       "      <td>English</td>\n",
       "      <td>Business News | Technology | Tech News | Business</td>\n",
       "      <td>http://www.corumgroup.com</td>\n",
       "      <td>Timothy Goddard</td>\n",
       "      <td>538160025</td>\n",
       "      <td>59</td>\n",
       "    </tr>\n",
       "    <tr>\n",
       "      <th>2</th>\n",
       "      <td>7</td>\n",
       "      <td>f4d85755dd6048978f27681ed59a20fe</td>\n",
       "      <td>Social Media, Mobility, Analytics, Cloud: Tech...</td>\n",
       "      <td>http://is2.mzstatic.com/image/thumb/Music118/v...</td>\n",
       "      <td>SMACtalk hosted by Brian Fanzo and Daniel Newm...</td>\n",
       "      <td>English</td>\n",
       "      <td>Management &amp; Marketing | Business | Technology...</td>\n",
       "      <td>http://smactalklive.live</td>\n",
       "      <td>Brian Fanzo &amp; Daniel Newman</td>\n",
       "      <td>953547333</td>\n",
       "      <td>52</td>\n",
       "    </tr>\n",
       "    <tr>\n",
       "      <th>3</th>\n",
       "      <td>8</td>\n",
       "      <td>7b131a464c4b4f34a8f62de738417fc4</td>\n",
       "      <td>Radio Leo (Video LO)</td>\n",
       "      <td>http://is4.mzstatic.com/image/thumb/Music71/v4...</td>\n",
       "      <td>A compendium of netcasts from the Chief TWiT, ...</td>\n",
       "      <td>English</td>\n",
       "      <td>Tech News | Technology | News &amp; Politics | Gad...</td>\n",
       "      <td>https://twit.tv/shows/radio-leo</td>\n",
       "      <td>Leo Laporte</td>\n",
       "      <td>808313192</td>\n",
       "      <td>34</td>\n",
       "    </tr>\n",
       "    <tr>\n",
       "      <th>4</th>\n",
       "      <td>9</td>\n",
       "      <td>7bbb6386cacb45518f2e5b2427c4cbb1</td>\n",
       "      <td>Digital India</td>\n",
       "      <td>http://is4.mzstatic.com/image/thumb/Music60/v4...</td>\n",
       "      <td>Suresh Babu, founder and head of the Web Marke...</td>\n",
       "      <td>English</td>\n",
       "      <td>Podcasting | Management &amp; Marketing | Tech New...</td>\n",
       "      <td>https://firpodcastnetwork.com/digital-india/</td>\n",
       "      <td>Digital India</td>\n",
       "      <td>1003892435</td>\n",
       "      <td>29</td>\n",
       "    </tr>\n",
       "  </tbody>\n",
       "</table>\n",
       "</div>"
      ],
      "text/plain": [
       "   index                              uuid  \\\n",
       "0      1  cbbefd691915468c90f87ab2f00473f9   \n",
       "1      3  0f50631ebad24cedb2fee80950f37a1a   \n",
       "2      7  f4d85755dd6048978f27681ed59a20fe   \n",
       "3      8  7b131a464c4b4f34a8f62de738417fc4   \n",
       "4      9  7bbb6386cacb45518f2e5b2427c4cbb1   \n",
       "\n",
       "                                               title  \\\n",
       "0                             Eat Sleep Code Podcast   \n",
       "1                               The Tech M&A Podcast   \n",
       "2  Social Media, Mobility, Analytics, Cloud: Tech...   \n",
       "3                               Radio Leo (Video LO)   \n",
       "4                                      Digital India   \n",
       "\n",
       "                                               image  \\\n",
       "0  http://is4.mzstatic.com/image/thumb/Music71/v4...   \n",
       "1  http://is1.mzstatic.com/image/thumb/Music71/v4...   \n",
       "2  http://is2.mzstatic.com/image/thumb/Music118/v...   \n",
       "3  http://is4.mzstatic.com/image/thumb/Music71/v4...   \n",
       "4  http://is4.mzstatic.com/image/thumb/Music60/v4...   \n",
       "\n",
       "                                         description language  \\\n",
       "0  On the show we’ll be talking to passionate peo...  English   \n",
       "1  The Tech M&A Podcast pulls from the best of th...  English   \n",
       "2  SMACtalk hosted by Brian Fanzo and Daniel Newm...  English   \n",
       "3  A compendium of netcasts from the Chief TWiT, ...  English   \n",
       "4  Suresh Babu, founder and head of the Web Marke...  English   \n",
       "\n",
       "                                          categories  \\\n",
       "0                             Tech News | Technology   \n",
       "1  Business News | Technology | Tech News | Business   \n",
       "2  Management & Marketing | Business | Technology...   \n",
       "3  Tech News | Technology | News & Politics | Gad...   \n",
       "4  Podcasting | Management & Marketing | Tech New...   \n",
       "\n",
       "                                        website                       author  \\\n",
       "0                 http://developer.telerik.com/                      Telerik   \n",
       "1                     http://www.corumgroup.com              Timothy Goddard   \n",
       "2                      http://smactalklive.live  Brian Fanzo & Daniel Newman   \n",
       "3               https://twit.tv/shows/radio-leo                  Leo Laporte   \n",
       "4  https://firpodcastnetwork.com/digital-india/                Digital India   \n",
       "\n",
       "    itunes_id  description_length  \n",
       "0  1015556393                  59  \n",
       "1   538160025                  59  \n",
       "2   953547333                  52  \n",
       "3   808313192                  34  \n",
       "4  1003892435                  29  "
      ]
     },
     "execution_count": 45,
     "metadata": {},
     "output_type": "execute_result"
    }
   ],
   "source": [
    "podcasts.head()\n",
    "podcasts_z = podcasts.drop(['index','uuid','image','language','website','author','itunes_id', 'description_length'], axis=1)"
   ]
  },
  {
   "cell_type": "code",
   "execution_count": 46,
   "metadata": {},
   "outputs": [],
   "source": [
    "# unseen podcast title, description and category entered into the dataframe\n",
    "def update_new_podcast(podcasts_df, new_podcast_title, new_podcast_description, new_podcast_categories):\n",
    "    new_podcast_row = pd.DataFrame(np.array([[new_podcast_title, new_podcast_description, new_podcast_categories]]), columns=['title', 'description','categories'])\n",
    "    podcasts_df = pd.concat([new_podcast_row, podcasts_z], ignore_index=True)\n",
    "    \n",
    "    return podcasts_df"
   ]
  },
  {
   "cell_type": "code",
   "execution_count": 47,
   "metadata": {},
   "outputs": [],
   "source": [
    "podcasts_z = update_new_podcast(podcasts_z, new_podcast_title, new_podcast_description, new_podcast_categories)"
   ]
  },
  {
   "cell_type": "code",
   "execution_count": 48,
   "metadata": {},
   "outputs": [
    {
     "data": {
      "text/html": [
       "<div>\n",
       "<style scoped>\n",
       "    .dataframe tbody tr th:only-of-type {\n",
       "        vertical-align: middle;\n",
       "    }\n",
       "\n",
       "    .dataframe tbody tr th {\n",
       "        vertical-align: top;\n",
       "    }\n",
       "\n",
       "    .dataframe thead th {\n",
       "        text-align: right;\n",
       "    }\n",
       "</style>\n",
       "<table border=\"1\" class=\"dataframe\">\n",
       "  <thead>\n",
       "    <tr style=\"text-align: right;\">\n",
       "      <th></th>\n",
       "      <th>title</th>\n",
       "      <th>description</th>\n",
       "      <th>categories</th>\n",
       "    </tr>\n",
       "  </thead>\n",
       "  <tbody>\n",
       "    <tr>\n",
       "      <th>0</th>\n",
       "      <td>Wait, Hold Up!</td>\n",
       "      <td>Each week, tune in as Yarel and Jessica interv...</td>\n",
       "      <td>Society &amp; Culture | Self-Help</td>\n",
       "    </tr>\n",
       "    <tr>\n",
       "      <th>1</th>\n",
       "      <td>Eat Sleep Code Podcast</td>\n",
       "      <td>On the show we’ll be talking to passionate peo...</td>\n",
       "      <td>Tech News | Technology</td>\n",
       "    </tr>\n",
       "    <tr>\n",
       "      <th>2</th>\n",
       "      <td>The Tech M&amp;A Podcast</td>\n",
       "      <td>The Tech M&amp;A Podcast pulls from the best of th...</td>\n",
       "      <td>Business News | Technology | Tech News | Business</td>\n",
       "    </tr>\n",
       "    <tr>\n",
       "      <th>3</th>\n",
       "      <td>Social Media, Mobility, Analytics, Cloud: Tech...</td>\n",
       "      <td>SMACtalk hosted by Brian Fanzo and Daniel Newm...</td>\n",
       "      <td>Management &amp; Marketing | Business | Technology...</td>\n",
       "    </tr>\n",
       "    <tr>\n",
       "      <th>4</th>\n",
       "      <td>Radio Leo (Video LO)</td>\n",
       "      <td>A compendium of netcasts from the Chief TWiT, ...</td>\n",
       "      <td>Tech News | Technology | News &amp; Politics | Gad...</td>\n",
       "    </tr>\n",
       "    <tr>\n",
       "      <th>...</th>\n",
       "      <td>...</td>\n",
       "      <td>...</td>\n",
       "      <td>...</td>\n",
       "    </tr>\n",
       "    <tr>\n",
       "      <th>59318</th>\n",
       "      <td>Stereo Embers: The Podcast</td>\n",
       "      <td>Hosted by Alex Green, Stereo Embers: The Podca...</td>\n",
       "      <td>Music</td>\n",
       "    </tr>\n",
       "    <tr>\n",
       "      <th>59319</th>\n",
       "      <td>For Your Benefit</td>\n",
       "      <td>Host Bob Leins and presenters from the Nationa...</td>\n",
       "      <td>Government &amp; Organizations | News &amp; Politics |...</td>\n",
       "    </tr>\n",
       "    <tr>\n",
       "      <th>59320</th>\n",
       "      <td>BAFTA Guru</td>\n",
       "      <td>BAFTA is a world-leading independent arts char...</td>\n",
       "      <td>TV &amp; Film</td>\n",
       "    </tr>\n",
       "    <tr>\n",
       "      <th>59321</th>\n",
       "      <td>The Junction</td>\n",
       "      <td>The best mix old of school and new school hip ...</td>\n",
       "      <td>Arts | TV &amp; Film | Music</td>\n",
       "    </tr>\n",
       "    <tr>\n",
       "      <th>59322</th>\n",
       "      <td>The Skinny Fat Crazy Lady's show</td>\n",
       "      <td>My ultimate goal is to teach you how to live a...</td>\n",
       "      <td>Society &amp; Culture</td>\n",
       "    </tr>\n",
       "  </tbody>\n",
       "</table>\n",
       "<p>59323 rows × 3 columns</p>\n",
       "</div>"
      ],
      "text/plain": [
       "                                                   title  \\\n",
       "0                                         Wait, Hold Up!   \n",
       "1                                 Eat Sleep Code Podcast   \n",
       "2                                   The Tech M&A Podcast   \n",
       "3      Social Media, Mobility, Analytics, Cloud: Tech...   \n",
       "4                                   Radio Leo (Video LO)   \n",
       "...                                                  ...   \n",
       "59318                         Stereo Embers: The Podcast   \n",
       "59319                                   For Your Benefit   \n",
       "59320                                         BAFTA Guru   \n",
       "59321                                       The Junction   \n",
       "59322                   The Skinny Fat Crazy Lady's show   \n",
       "\n",
       "                                             description  \\\n",
       "0      Each week, tune in as Yarel and Jessica interv...   \n",
       "1      On the show we’ll be talking to passionate peo...   \n",
       "2      The Tech M&A Podcast pulls from the best of th...   \n",
       "3      SMACtalk hosted by Brian Fanzo and Daniel Newm...   \n",
       "4      A compendium of netcasts from the Chief TWiT, ...   \n",
       "...                                                  ...   \n",
       "59318  Hosted by Alex Green, Stereo Embers: The Podca...   \n",
       "59319  Host Bob Leins and presenters from the Nationa...   \n",
       "59320  BAFTA is a world-leading independent arts char...   \n",
       "59321  The best mix old of school and new school hip ...   \n",
       "59322  My ultimate goal is to teach you how to live a...   \n",
       "\n",
       "                                              categories  \n",
       "0                          Society & Culture | Self-Help  \n",
       "1                                 Tech News | Technology  \n",
       "2      Business News | Technology | Tech News | Business  \n",
       "3      Management & Marketing | Business | Technology...  \n",
       "4      Tech News | Technology | News & Politics | Gad...  \n",
       "...                                                  ...  \n",
       "59318                                              Music  \n",
       "59319  Government & Organizations | News & Politics |...  \n",
       "59320                                          TV & Film  \n",
       "59321                           Arts | TV & Film | Music  \n",
       "59322                                  Society & Culture  \n",
       "\n",
       "[59323 rows x 3 columns]"
      ]
     },
     "execution_count": 48,
     "metadata": {},
     "output_type": "execute_result"
    }
   ],
   "source": [
    "podcasts_z"
   ]
  },
  {
   "cell_type": "code",
   "execution_count": 49,
   "metadata": {},
   "outputs": [],
   "source": [
    "# updating the category matrix with unseen podcast category\n",
    "def update_category_matrix(podcasts_df):\n",
    "    # convert list into columns and append to podcast dataframe \n",
    "    category_df = pd.DataFrame()\n",
    "    # run a loop to check if categories column has the word in each of the new columns 1 for yes 0 for no\n",
    "    for column_name in new_features:\n",
    "        boolean_series = podcasts_df.categories.str.contains(column_name).astype(float)\n",
    "        category_df[column_name] = boolean_series\n",
    "    return category_df / 125\n",
    "    "
   ]
  },
  {
   "cell_type": "code",
   "execution_count": 50,
   "metadata": {},
   "outputs": [],
   "source": [
    "category_df = update_category_matrix(podcasts_z)"
   ]
  },
  {
   "cell_type": "code",
   "execution_count": 51,
   "metadata": {},
   "outputs": [],
   "source": [
    "# appended to the original podcast dataset and generate predictions as per usual. \n",
    "def podcast_recommendor_sparse(podcasts_df, new_podcast_title, category_df):\n",
    "        podcasts_df['description'] = podcasts_df['description'].astype(str)\n",
    "\n",
    "        # vectorize podcast descriptions \n",
    "        tf = TfidfVectorizer(analyzer = 'word', ngram_range = (1, 2), max_features = 5000, stop_words = \"english\")\n",
    "        tf_idf = tf.fit_transform(podcasts_df['description'])\n",
    "        \n",
    "        #append sparse category matrix\n",
    "        category_array = category_df.to_numpy()\n",
    "        sparse_category = sparse.csr_matrix(category_array)\n",
    "        tf_idf = hstack([tf_idf, sparse_category])\n",
    "        return tf_idf"
   ]
  },
  {
   "cell_type": "code",
   "execution_count": 52,
   "metadata": {},
   "outputs": [],
   "source": [
    "tf_idf = podcast_recommendor_sparse(podcasts_z, new_podcast_title, category_df)"
   ]
  },
  {
   "cell_type": "code",
   "execution_count": 53,
   "metadata": {},
   "outputs": [],
   "source": [
    "def podcast_recommender_new(podcasts_df, new_podcast_title, tf_idf=tf_idf):\n",
    "        # generates similarity matrix\n",
    "        similarity_matrix = cosine_similarity(tf_idf, dense_output=False)  \n",
    "        # unpacks information on respective podcast \n",
    "        x = podcasts_df[podcasts_df.title == new_podcast_title].index[0]\n",
    "        podcast_similarities = similarity_matrix[x].todense()\n",
    "        similar_idx = podcast_similarities.argsort(axis=None)[:,-6:-1]\n",
    "        for i in range(4,-1,-1):\n",
    "            print(podcast_similarities.item(similar_idx.item(i)), '-', podcasts_df.title[similar_idx.item(i)], '-', podcasts_df.description[similar_idx.item(i)], '\\n')\n",
    "        print('Original - ' + podcasts_df.title[x] + ' -' + podcasts_df.description[x])"
   ]
  },
  {
   "cell_type": "code",
   "execution_count": 54,
   "metadata": {
    "scrolled": true
   },
   "outputs": [
    {
     "name": "stdout",
     "output_type": "stream",
     "text": [
      "0.2858539172722759 - Drinking Buddies Podcast - A podcast about everything from pop culture to politics to sports. Two friends that have a couple beers and discuss the past week. \n",
      "\n",
      "0.2786600750403002 - Danger! Talks... - An open discussion podcast on subjects that I want to know more about with the people that know more about them. \n",
      "\n",
      "0.264942052241013 - Olympia Pop Rocks - Guire and Jemmy Joe interview local Olympians of note, and discuss pop culture, politics, local issues or whatever strikes their fancy. \n",
      "\n",
      "0.2580537547340273 - People I Know - People I Know - the podcast that talks to interesting people so you don't have to. Each episode will see a new interesting person that I know, talk about some interesting people that they know... not forgetting the all-important scented candle review! \n",
      "\n",
      "0.2543629237085361 - The Raven Effect - Join professional wrestling superstar & world class idiot, Raven, along with a motley assortment of friends, enemies, know-it-alls, know nothings, professional level morons and highly functioning sociopaths, for a veritable cornucopia of stupidity covering current events, conspiracies, pop culture, politics, general muckety-muck, and any and all topics that can be properly bantered. \n",
      "\n",
      "Original - Wait, Hold Up! -Each week, tune in as Yarel and Jessica interview people you know (or who they think you should know) who are on their grind and learn the wait, hold up moments that changed their lives. When theyre not with a guest theyre diving into the latest in pop culture & politics.\n"
     ]
    }
   ],
   "source": [
    "podcast_recommender_new(podcasts_z, new_podcast_title, tf_idf=tf_idf)"
   ]
  }
 ],
 "metadata": {
  "kernelspec": {
   "display_name": "Python 3 (ipykernel)",
   "language": "python",
   "name": "python3"
  },
  "language_info": {
   "codemirror_mode": {
    "name": "ipython",
    "version": 3
   },
   "file_extension": ".py",
   "mimetype": "text/x-python",
   "name": "python",
   "nbconvert_exporter": "python",
   "pygments_lexer": "ipython3",
   "version": "3.12.7"
  }
 },
 "nbformat": 4,
 "nbformat_minor": 4
}
